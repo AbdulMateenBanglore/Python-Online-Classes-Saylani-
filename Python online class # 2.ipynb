{
 "cells": [
  {
   "cell_type": "code",
   "execution_count": 13,
   "metadata": {},
   "outputs": [
    {
     "name": "stdout",
     "output_type": "stream",
     "text": [
      "Enter your age27\n",
      "Allowed to ride\n"
     ]
    }
   ],
   "source": [
    "# if else syntax\n",
    "age = int(input(\"Enter your age\"))\n",
    "if age >= 18 :\n",
    "  print(\"Allowed to ride\")\n",
    "else :\n",
    "  print(\"Not Allowed\")"
   ]
  },
  {
   "cell_type": "code",
   "execution_count": 14,
   "metadata": {},
   "outputs": [
    {
     "name": "stdout",
     "output_type": "stream",
     "text": [
      "Your answer is correct\n"
     ]
    }
   ],
   "source": [
    "# == refers to equal to mostly used in contionalal questions while = refers to assigning\n",
    "x = 10\n",
    "y = 12\n",
    "a = 30\n",
    "b = 8\n",
    "if x + y == a - b :\n",
    "  print(\"Your answer is correct\")\n",
    "else :\n",
    "    print(\"Wrong annswer\")"
   ]
  },
  {
   "cell_type": "code",
   "execution_count": 15,
   "metadata": {},
   "outputs": [
    {
     "name": "stdout",
     "output_type": "stream",
     "text": [
      "Wrong annswer\n"
     ]
    }
   ],
   "source": [
    "# == refers to equal to mostly used in contionalal questions while = refers to assigning\n",
    "# ! refers to not equal to\n",
    "x = 10\n",
    "y = 12\n",
    "a = 30\n",
    "b = 8\n",
    "if x + y != a - b :\n",
    "  print(\"Your answer is correct\")\n",
    "else :\n",
    "    print(\"Wrong annswer\")"
   ]
  },
  {
   "cell_type": "code",
   "execution_count": 17,
   "metadata": {},
   "outputs": [
    {
     "name": "stdout",
     "output_type": "stream",
     "text": [
      "Enter percentage145\n",
      "You have given inappropriate percentage\n"
     ]
    }
   ],
   "source": [
    "# elif is used for  more than if condition\n",
    "per = int(input(\"Enter percentage\"))\n",
    "if per >= 80 and per < 100 :\n",
    "    print(\"A+\")\n",
    "elif  per >= 70 and per < 80:\n",
    "    print(\"A\")\n",
    "elif  per >= 60 and per < 70:\n",
    "    print(\"B\")\n",
    "elif per >= 0 and per < 60 :\n",
    "    print(\"Fail\")\n",
    "else:\n",
    "    print(\"You have given inappropriate percentage\")"
   ]
  },
  {
   "cell_type": "code",
   "execution_count": 18,
   "metadata": {},
   "outputs": [
    {
     "name": "stdout",
     "output_type": "stream",
     "text": [
      "0\n"
     ]
    }
   ],
   "source": [
    "# if both statements is true then AND condition is true else false\n",
    "# if atleast only one of the  statements is true then OR condition is true else false\n",
    "a = 5\n",
    "b = 6\n",
    "c = 7\n",
    "d = 7\n",
    "e = 9\n",
    "g = 10\n",
    "f = 11\n",
    "x = 12\n",
    "y = 12\n",
    "h = 0\n",
    "if ( x == y or a == b) and c == d:\n",
    "    g = h\n",
    "    print(g)\n",
    "else:\n",
    "    e = f\n",
    "    print(e)"
   ]
  },
  {
   "cell_type": "code",
   "execution_count": 81,
   "metadata": {},
   "outputs": [
    {
     "name": "stdout",
     "output_type": "stream",
     "text": [
      "0\n"
     ]
    }
   ],
   "source": [
    "# nested statement example: means if condition is used in if condition\n",
    "# elif is used for  more than if condition\n",
    "# nested statement example: means if condition is used in if condition\n",
    "# if both statements is true then AND condition is true else false\n",
    "# if atleast only one of the  statements is true then OR condition is true else false\n",
    "a = 5\n",
    "b = 6\n",
    "c = 7\n",
    "d = 7\n",
    "e = 9\n",
    "g = 10\n",
    "f = 11\n",
    "x = 12\n",
    "y = 12\n",
    "h = 0\n",
    "\n",
    "if c == d:\n",
    "     if x == y:\n",
    "      g = h\n",
    "      print(g)\n",
    "elif a == b:\n",
    "  g = h\n",
    "  print(g) \n",
    "else:\n",
    "  e = f\n",
    "  print(e)\n"
   ]
  },
  {
   "cell_type": "code",
   "execution_count": 47,
   "metadata": {},
   "outputs": [
    {
     "name": "stdout",
     "output_type": "stream",
     "text": [
      "['Ali', 'Haider', 'Salman', 25, False, 0.9]\n"
     ]
    }
   ],
   "source": [
    "# Array example\n",
    "# In python  array is known as list\n",
    "arr = [\"Ali\",\"Haider\",\"Salman\",25,False,0.9]\n",
    "print(arr)"
   ]
  },
  {
   "cell_type": "code",
   "execution_count": 54,
   "metadata": {},
   "outputs": [
    {
     "name": "stdout",
     "output_type": "stream",
     "text": [
      "Haider\n"
     ]
    }
   ],
   "source": [
    "# array stores values on indexes and in array index is start from 0\n",
    "arr = [\"Ali\",\"Haider\",\"Salman\",25,False,0.9]\n",
    "print(arr[1])"
   ]
  },
  {
   "cell_type": "code",
   "execution_count": 58,
   "metadata": {},
   "outputs": [
    {
     "name": "stdout",
     "output_type": "stream",
     "text": [
      "['Ali', 'Haider', 'Salman', 25, False, 0.9, 'Umar']\n"
     ]
    }
   ],
   "source": [
    "# elements can be add in array by append\n",
    "# the newly added element adds on the last/end of the array\n",
    "arr = [\"Ali\",\"Haider\",\"Salman\",25,False,0.9]\n",
    "arr.append(\"Umar\")\n",
    "print(arr)\n"
   ]
  },
  {
   "cell_type": "code",
   "execution_count": 59,
   "metadata": {},
   "outputs": [
    {
     "name": "stdout",
     "output_type": "stream",
     "text": [
      "['Ali', 'Haider', 'Salman', 25, False, 0.9, 'Ghazi', 'Nouroz']\n"
     ]
    }
   ],
   "source": [
    "# Array example\n",
    "arr = [\"Ali\",\"Haider\",\"Salman\",25,False,0.9]\n",
    "arr1 = arr + [\"Ghazi\",\"Nouroz\"]\n",
    "print(arr1)"
   ]
  },
  {
   "cell_type": "code",
   "execution_count": 60,
   "metadata": {},
   "outputs": [
    {
     "name": "stdout",
     "output_type": "stream",
     "text": [
      "['Ali', 'Haider', 'Raza', 'Salman', 25, False, 0.9, 'Ghazi', 'Nouroz']\n"
     ]
    }
   ],
   "source": [
    "# Array example\n",
    "# insert is a keyword used to insert element in a particular index of a array\n",
    "arr = [\"Ali\",\"Haider\",\"Salman\",25,False,0.9]\n",
    "arr1 = arr + [\"Ghazi\",\"Nouroz\"]\n",
    "arr1.insert(2 , \"Raza\")\n",
    "print(arr1)"
   ]
  },
  {
   "cell_type": "code",
   "execution_count": 62,
   "metadata": {},
   "outputs": [
    {
     "name": "stdout",
     "output_type": "stream",
     "text": [
      "['Ali', 'Haider', 'Salman', 37, False, 0.9]\n"
     ]
    }
   ],
   "source": [
    "# Array example\n",
    "# you can change the element of a array by assigning just with the index number\n",
    "arr = [\"Ali\",\"Haider\",\"Salman\",25,False,0.9]\n",
    "arr[3]= 37\n",
    "print(arr)"
   ]
  },
  {
   "cell_type": "code",
   "execution_count": 67,
   "metadata": {},
   "outputs": [
    {
     "name": "stdout",
     "output_type": "stream",
     "text": [
      "['Ali', 'Haider', 'Raza', 'Salman', 25, False, 0.9, 'Ghazi', 'Nouroz']\n",
      "====After slicing====\n",
      "['Raza', 'Salman', 25, False, 0.9]\n",
      "====Again after slicing====\n",
      "['Ali', 'Haider', 'Raza', 'Salman', 25]\n"
     ]
    }
   ],
   "source": [
    "# Array example of slicing\n",
    "# slicing means from different elements/fields you want to pick/slice a particular line of fields/elements\n",
    "# you want to give the starting point from where you want to start slicing and the stoping point separated by colon\n",
    "# slicing ending point refers to -1 means if given ending point is 7 so slicing stops at index 6\n",
    "arr = [\"Ali\",\"Haider\",\"Raza\",\"Salman\",25,False,0.9,\"Ghazi\",\"Nouroz\"]\n",
    "print(arr)\n",
    "print(\"====After slicing====\")\n",
    "arr1 = arr[2 : 7]\n",
    "print(arr1)\n",
    "print(\"====Again after slicing====\")\n",
    "arr2 = arr[ : 5]\n",
    "print(arr2)"
   ]
  },
  {
   "cell_type": "code",
   "execution_count": 68,
   "metadata": {},
   "outputs": [
    {
     "name": "stdout",
     "output_type": "stream",
     "text": [
      "['Ali', 'Raza', 'Salman', 25, False, 0.9, 'Ghazi', 'Nouroz']\n"
     ]
    }
   ],
   "source": [
    "# Array example\n",
    "# elements can be delete in array by del\n",
    "arr = [\"Ali\",\"Haider\",\"Raza\",\"Salman\",25,False,0.9,\"Ghazi\",\"Nouroz\"]\n",
    "del arr[1]\n",
    "print(arr)"
   ]
  },
  {
   "cell_type": "code",
   "execution_count": 70,
   "metadata": {},
   "outputs": [
    {
     "name": "stdout",
     "output_type": "stream",
     "text": [
      "['Ali', 'Haider', 'Salman', 25, False, 0.9, 'Ghazi', 'Nouroz']\n"
     ]
    }
   ],
   "source": [
    "# Array example\n",
    "# elements can be directly delete from array by remove by just given particular element name\n",
    "# remove is use in that condition in which elements of array are known\n",
    "arr = [\"Ali\",\"Haider\",\"Raza\",\"Salman\",25,False,0.9,\"Ghazi\",\"Nouroz\"]\n",
    "arr.remove(\"Raza\")\n",
    "print(arr)"
   ]
  },
  {
   "cell_type": "code",
   "execution_count": 74,
   "metadata": {},
   "outputs": [
    {
     "name": "stdout",
     "output_type": "stream",
     "text": [
      "Nouroz\n"
     ]
    }
   ],
   "source": [
    "# Array example of popping\n",
    "# pop can select or delete the last/end element of array\n",
    "arr = [\"Ali\",\"Haider\",\"Raza\",\"Salman\",25,False,0.9,\"Ghazi\",\"Nouroz\"]\n",
    "arr2 = arr.pop()\n",
    "print(arr2)"
   ]
  },
  {
   "cell_type": "code",
   "execution_count": 79,
   "metadata": {},
   "outputs": [
    {
     "name": "stdout",
     "output_type": "stream",
     "text": [
      "0\n"
     ]
    }
   ],
   "source": [
    "# nested statement example: means if condition is used in if condition\n",
    "# elif is used for  more than if condition\n",
    "# nested statement example: means if condition is used in if condition\n",
    "# if both statements is true then AND condition is true else false\n",
    "# if atleast only one of the  statements is true then OR condition is true else false\n",
    "a = 5\n",
    "b = 6\n",
    "c = 7\n",
    "d = 7\n",
    "e = 9\n",
    "g = 10\n",
    "f = 11\n",
    "x = 12\n",
    "y = 12\n",
    "h = 0\n",
    "\n",
    "if c == d:\n",
    "        if x == y:\n",
    "         g = h\n",
    "        print(g)\n",
    "elif a == b:\n",
    " g = h\n",
    " print(g)\n",
    "else:\n",
    "   e = f\n",
    "   print(e)\n",
    "   "
   ]
  },
  {
   "cell_type": "code",
   "execution_count": null,
   "metadata": {},
   "outputs": [],
   "source": []
  }
 ],
 "metadata": {
  "kernelspec": {
   "display_name": "Python 3",
   "language": "python",
   "name": "python3"
  },
  "language_info": {
   "codemirror_mode": {
    "name": "ipython",
    "version": 3
   },
   "file_extension": ".py",
   "mimetype": "text/x-python",
   "name": "python",
   "nbconvert_exporter": "python",
   "pygments_lexer": "ipython3",
   "version": "3.7.4"
  }
 },
 "nbformat": 4,
 "nbformat_minor": 2
}
