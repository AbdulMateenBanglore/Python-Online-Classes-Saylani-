{
 "cells": [
  {
   "cell_type": "code",
   "execution_count": 1,
   "metadata": {},
   "outputs": [
    {
     "name": "stdout",
     "output_type": "stream",
     "text": [
      "('ali', 'umer', 'ghous')\n"
     ]
    }
   ],
   "source": [
    "# tupples examples\n",
    "# tuples is same as array or lists\n",
    "# we use tuples when have to give accurate value of elements or we dont want to change values\n",
    "# in array we use square brackets while in tupples round brackets is used\n",
    "# tuples values cannot be changed or it is uneditable unlike array\n",
    "tp = (\"ali\",\"umer\",\"ghous\")\n",
    "print(tp)"
   ]
  },
  {
   "cell_type": "code",
   "execution_count": 3,
   "metadata": {},
   "outputs": [
    {
     "ename": "TypeError",
     "evalue": "'tuple' object does not support item assignment",
     "output_type": "error",
     "traceback": [
      "\u001b[1;31m---------------------------------------------------------------------------\u001b[0m",
      "\u001b[1;31mTypeError\u001b[0m                                 Traceback (most recent call last)",
      "\u001b[1;32m<ipython-input-3-39490fb57fed>\u001b[0m in \u001b[0;36m<module>\u001b[1;34m\u001b[0m\n\u001b[0;32m      1\u001b[0m \u001b[0mtp\u001b[0m \u001b[1;33m=\u001b[0m \u001b[1;33m(\u001b[0m\u001b[1;34m\"ali\"\u001b[0m\u001b[1;33m,\u001b[0m\u001b[1;34m\"umer\"\u001b[0m\u001b[1;33m,\u001b[0m\u001b[1;34m\"ghous\"\u001b[0m\u001b[1;33m)\u001b[0m\u001b[1;33m\u001b[0m\u001b[1;33m\u001b[0m\u001b[0m\n\u001b[1;32m----> 2\u001b[1;33m \u001b[0mtp\u001b[0m\u001b[1;33m[\u001b[0m\u001b[1;36m1\u001b[0m\u001b[1;33m]\u001b[0m\u001b[1;33m=\u001b[0m\u001b[1;34m'umair'\u001b[0m\u001b[1;33m\u001b[0m\u001b[1;33m\u001b[0m\u001b[0m\n\u001b[0m",
      "\u001b[1;31mTypeError\u001b[0m: 'tuple' object does not support item assignment"
     ]
    }
   ],
   "source": [
    "# tuples values cannot be changed\n",
    "tp = (\"ali\",\"umer\",\"ghous\")\n",
    "tp[1]='umair'"
   ]
  },
  {
   "cell_type": "code",
   "execution_count": 4,
   "metadata": {},
   "outputs": [
    {
     "name": "stdout",
     "output_type": "stream",
     "text": [
      "umer\n"
     ]
    }
   ],
   "source": [
    "# tupples examples\n",
    "# tupples also works on indexes as umer is on index 1 of tupple tp\n",
    "tp = (\"ali\",\"umer\",\"ghous\")\n",
    "print(tp[1])"
   ]
  },
  {
   "cell_type": "code",
   "execution_count": 7,
   "metadata": {},
   "outputs": [
    {
     "name": "stdout",
     "output_type": "stream",
     "text": [
      "Enter first value:5\n",
      "Enter first value:6\n",
      "Enter operator:/\n",
      "0.8333333333333334 Answer\n"
     ]
    }
   ],
   "source": [
    "# calculator example\n",
    "val1=int(input(\"Enter first value:\"))\n",
    "val2=int(input(\"Enter first value:\"))\n",
    "operator=input(\"Enter operator:\")\n",
    "if operator=='+':\n",
    "    val=val1+val2\n",
    "    print(val,\"Answer\")\n",
    "elif operator=='-':\n",
    "    val=val1-val2\n",
    "    print(val,\"Answer\")\n",
    "elif operator=='*':\n",
    "    val=val1*val2\n",
    "    print(val,\"Answer\")\n",
    "elif operator=='/':\n",
    "    val=val1/val2\n",
    "    print(val,\"Answer\")\n",
    "else:\n",
    "    print(\"Enter correct operator:\")"
   ]
  },
  {
   "cell_type": "code",
   "execution_count": 10,
   "metadata": {},
   "outputs": [
    {
     "name": "stdout",
     "output_type": "stream",
     "text": [
      "Islamabad\n",
      "Karachi\n",
      "Faislabad\n",
      "Quetta\n",
      "Peshawar\n"
     ]
    }
   ],
   "source": [
    "# for-loop examples\n",
    "# loop is repetetion of values\n",
    "# in python loop is applicable only on list or array\n",
    "\n",
    "'''' syntax of for-loop:\n",
    "  for (variable name) in (list or array name in which values are stored):\n",
    " where, variable name is anything just for storing values of list'''\n",
    "\n",
    "# example:\n",
    "# a_clean_city is a kind of variable in this program and cleanest_cities is obviously is list or array\n",
    "# the values of cleanest_cities is assigned or stored to a_clean_city,which is used as variable in this program\n",
    "\n",
    "cleanest_cities = [\"Islamabad\", \"Karachi\", \"Faislabad\",\"Quetta\", \"Peshawar\"]\n",
    "\n",
    "for a_clean_city in cleanest_cities:\n",
    "    print(a_clean_city)\n",
    "  "
   ]
  },
  {
   "cell_type": "code",
   "execution_count": 11,
   "metadata": {},
   "outputs": [
    {
     "name": "stdout",
     "output_type": "stream",
     "text": [
      "Biomedical\n",
      "Civil\n",
      "Electrical\n",
      "Electronics\n",
      "Computer Science\n"
     ]
    }
   ],
   "source": [
    "# for-loop examples\n",
    "# loop is repetetion of values\n",
    "# in python loop is applicable only on list or array\n",
    "''' syntax of for-loop:\n",
    "  for (variable name) in (list or array name in which values are stored):\n",
    " where, variable name is anything just for storing values of list'''\n",
    "\n",
    "University_departments = [\"Biomedical\",\"Civil\",\"Electrical\",\"Electronics\",\"Computer Science\"]\n",
    "\n",
    "for departments_names in University_departments:\n",
    "    print(departments_names)"
   ]
  },
  {
   "cell_type": "code",
   "execution_count": 83,
   "metadata": {},
   "outputs": [
    {
     "name": "stdout",
     "output_type": "stream",
     "text": [
      "Enter City name:Karachi\n",
      "Entered City is not in Cleanest Cities\n",
      "Entered City is in Cleanest Cities\n",
      "Entered City is not in Cleanest Cities\n",
      "Entered City is not in Cleanest Cities\n",
      "Entered City is not in Cleanest Cities\n"
     ]
    }
   ],
   "source": [
    "# If-Else in for-loop examples\n",
    "# In this prgram we check whether the city, input by user are in cleanest_cities or not\n",
    "\n",
    "cleanest_cities = [\"Islamabad\", \"Karachi\", \"Faislabad\",\"Quetta\", \"Peshawar\"]\n",
    "value = input(\"Enter City name:\")\n",
    "\n",
    "for cities in cleanest_cities:\n",
    "    if value == cities :\n",
    "            print(\"Entered City is in Cleanest Cities\")\n",
    "    else:\n",
    "            print(\"Entered City is not in Cleanest Cities\")\n",
    "            \n"
   ]
  },
  {
   "cell_type": "code",
   "execution_count": 49,
   "metadata": {},
   "outputs": [
    {
     "name": "stdout",
     "output_type": "stream",
     "text": [
      "['BlueRay  Zzz']\n",
      "['BlueRay  Zzz', 'BlueRay  Burp']\n",
      "['BlueRay  Zzz', 'BlueRay  Burp', 'BlueRay  Dogbone']\n",
      "['BlueRay  Zzz', 'BlueRay  Burp', 'BlueRay  Dogbone', 'BlueRay  Droop']\n",
      "['BlueRay  Zzz', 'BlueRay  Burp', 'BlueRay  Dogbone', 'BlueRay  Droop', 'Upchuck  Zzz']\n",
      "['BlueRay  Zzz', 'BlueRay  Burp', 'BlueRay  Dogbone', 'BlueRay  Droop', 'Upchuck  Zzz', 'Upchuck  Burp']\n",
      "['BlueRay  Zzz', 'BlueRay  Burp', 'BlueRay  Dogbone', 'BlueRay  Droop', 'Upchuck  Zzz', 'Upchuck  Burp', 'Upchuck  Dogbone']\n",
      "['BlueRay  Zzz', 'BlueRay  Burp', 'BlueRay  Dogbone', 'BlueRay  Droop', 'Upchuck  Zzz', 'Upchuck  Burp', 'Upchuck  Dogbone', 'Upchuck  Droop']\n",
      "['BlueRay  Zzz', 'BlueRay  Burp', 'BlueRay  Dogbone', 'BlueRay  Droop', 'Upchuck  Zzz', 'Upchuck  Burp', 'Upchuck  Dogbone', 'Upchuck  Droop', 'Lojack  Zzz']\n",
      "['BlueRay  Zzz', 'BlueRay  Burp', 'BlueRay  Dogbone', 'BlueRay  Droop', 'Upchuck  Zzz', 'Upchuck  Burp', 'Upchuck  Dogbone', 'Upchuck  Droop', 'Lojack  Zzz', 'Lojack  Burp']\n",
      "['BlueRay  Zzz', 'BlueRay  Burp', 'BlueRay  Dogbone', 'BlueRay  Droop', 'Upchuck  Zzz', 'Upchuck  Burp', 'Upchuck  Dogbone', 'Upchuck  Droop', 'Lojack  Zzz', 'Lojack  Burp', 'Lojack  Dogbone']\n",
      "['BlueRay  Zzz', 'BlueRay  Burp', 'BlueRay  Dogbone', 'BlueRay  Droop', 'Upchuck  Zzz', 'Upchuck  Burp', 'Upchuck  Dogbone', 'Upchuck  Droop', 'Lojack  Zzz', 'Lojack  Burp', 'Lojack  Dogbone', 'Lojack  Droop']\n",
      "['BlueRay  Zzz', 'BlueRay  Burp', 'BlueRay  Dogbone', 'BlueRay  Droop', 'Upchuck  Zzz', 'Upchuck  Burp', 'Upchuck  Dogbone', 'Upchuck  Droop', 'Lojack  Zzz', 'Lojack  Burp', 'Lojack  Dogbone', 'Lojack  Droop', 'Gizmo  Zzz']\n",
      "['BlueRay  Zzz', 'BlueRay  Burp', 'BlueRay  Dogbone', 'BlueRay  Droop', 'Upchuck  Zzz', 'Upchuck  Burp', 'Upchuck  Dogbone', 'Upchuck  Droop', 'Lojack  Zzz', 'Lojack  Burp', 'Lojack  Dogbone', 'Lojack  Droop', 'Gizmo  Zzz', 'Gizmo  Burp']\n",
      "['BlueRay  Zzz', 'BlueRay  Burp', 'BlueRay  Dogbone', 'BlueRay  Droop', 'Upchuck  Zzz', 'Upchuck  Burp', 'Upchuck  Dogbone', 'Upchuck  Droop', 'Lojack  Zzz', 'Lojack  Burp', 'Lojack  Dogbone', 'Lojack  Droop', 'Gizmo  Zzz', 'Gizmo  Burp', 'Gizmo  Dogbone']\n",
      "['BlueRay  Zzz', 'BlueRay  Burp', 'BlueRay  Dogbone', 'BlueRay  Droop', 'Upchuck  Zzz', 'Upchuck  Burp', 'Upchuck  Dogbone', 'Upchuck  Droop', 'Lojack  Zzz', 'Lojack  Burp', 'Lojack  Dogbone', 'Lojack  Droop', 'Gizmo  Zzz', 'Gizmo  Burp', 'Gizmo  Dogbone', 'Gizmo  Droop']\n",
      "['BlueRay  Zzz', 'BlueRay  Burp', 'BlueRay  Dogbone', 'BlueRay  Droop', 'Upchuck  Zzz', 'Upchuck  Burp', 'Upchuck  Dogbone', 'Upchuck  Droop', 'Lojack  Zzz', 'Lojack  Burp', 'Lojack  Dogbone', 'Lojack  Droop', 'Gizmo  Zzz', 'Gizmo  Burp', 'Gizmo  Dogbone', 'Gizmo  Droop', 'Do-Rag  Zzz']\n",
      "['BlueRay  Zzz', 'BlueRay  Burp', 'BlueRay  Dogbone', 'BlueRay  Droop', 'Upchuck  Zzz', 'Upchuck  Burp', 'Upchuck  Dogbone', 'Upchuck  Droop', 'Lojack  Zzz', 'Lojack  Burp', 'Lojack  Dogbone', 'Lojack  Droop', 'Gizmo  Zzz', 'Gizmo  Burp', 'Gizmo  Dogbone', 'Gizmo  Droop', 'Do-Rag  Zzz', 'Do-Rag  Burp']\n",
      "['BlueRay  Zzz', 'BlueRay  Burp', 'BlueRay  Dogbone', 'BlueRay  Droop', 'Upchuck  Zzz', 'Upchuck  Burp', 'Upchuck  Dogbone', 'Upchuck  Droop', 'Lojack  Zzz', 'Lojack  Burp', 'Lojack  Dogbone', 'Lojack  Droop', 'Gizmo  Zzz', 'Gizmo  Burp', 'Gizmo  Dogbone', 'Gizmo  Droop', 'Do-Rag  Zzz', 'Do-Rag  Burp', 'Do-Rag  Dogbone']\n",
      "['BlueRay  Zzz', 'BlueRay  Burp', 'BlueRay  Dogbone', 'BlueRay  Droop', 'Upchuck  Zzz', 'Upchuck  Burp', 'Upchuck  Dogbone', 'Upchuck  Droop', 'Lojack  Zzz', 'Lojack  Burp', 'Lojack  Dogbone', 'Lojack  Droop', 'Gizmo  Zzz', 'Gizmo  Burp', 'Gizmo  Dogbone', 'Gizmo  Droop', 'Do-Rag  Zzz', 'Do-Rag  Burp', 'Do-Rag  Dogbone', 'Do-Rag  Droop']\n"
     ]
    }
   ],
   "source": [
    "# nested for-loop example\n",
    "# when for-loop is used  inside another for-loop, this is nested for-loop\n",
    "# append saved items on last of the array\n",
    "\n",
    "first_names = [\"BlueRay \", \"Upchuck \", \"Lojack \", \"Gizmo \", \"Do-Rag \"]\n",
    "last_names = [\"Zzz\", \"Burp\", \"Dogbone\", \"Droop\"]\n",
    "full_names = []\n",
    "for a_first_name in first_names:    # outer for-loop\n",
    "    for a_last_name in last_names:   # inner for-loop\n",
    "        full_names.append(a_first_name + \" \" +a_last_name)  # sari values append hokar full_name ki list me save hoti jayegi\n",
    "        print(full_names)"
   ]
  },
  {
   "cell_type": "code",
   "execution_count": 53,
   "metadata": {},
   "outputs": [
    {
     "name": "stdout",
     "output_type": "stream",
     "text": [
      "umair\n"
     ]
    }
   ],
   "source": [
    "# changing case examples\n",
    "a = 'umAIr'\n",
    "print(a.lower())"
   ]
  },
  {
   "cell_type": "code",
   "execution_count": 54,
   "metadata": {},
   "outputs": [
    {
     "name": "stdout",
     "output_type": "stream",
     "text": [
      "ALI\n"
     ]
    }
   ],
   "source": [
    "# changing case examples\n",
    "a = 'ali'\n",
    "print(a.upper())"
   ]
  },
  {
   "cell_type": "code",
   "execution_count": 55,
   "metadata": {},
   "outputs": [
    {
     "name": "stdout",
     "output_type": "stream",
     "text": [
      "Umair\n"
     ]
    }
   ],
   "source": [
    "# changing case examples\n",
    "# title upper cased the first alphabet of a word\n",
    "a = 'umair'\n",
    "print(a.title())"
   ]
  },
  {
   "cell_type": "code",
   "execution_count": 57,
   "metadata": {},
   "outputs": [
    {
     "name": "stdout",
     "output_type": "stream",
     "text": [
      "4803 Wellesley St.\n"
     ]
    }
   ],
   "source": [
    "# Dictionary examples\n",
    "# dictionary is like objects of oop\n",
    "# dictionary is created by curly brackets\n",
    "# dictionary has key and values/properties\n",
    "# example: there is a car which color is blue, car is a dictionary ,color is key and blue is value\n",
    "# in this example customer is dictionary, firstname last name and address is key,david elliot 4803 wellesley st is value\n",
    "# syntax of dictionary:\n",
    "#dictionay_name = { key : values , key : values}\n",
    "\n",
    "customer = {\n",
    "    \"first name\": \"David\",\n",
    "    \"last name\": \"Elliott\", \n",
    "    \"address\": \"4803 Wellesley St.\"\n",
    "}\n",
    "print(customer[\"address\"])"
   ]
  },
  {
   "cell_type": "code",
   "execution_count": 58,
   "metadata": {},
   "outputs": [
    {
     "name": "stdout",
     "output_type": "stream",
     "text": [
      "4803 Wellesley St.\n"
     ]
    }
   ],
   "source": [
    "# Dictionary examples : getting information from dictionary\n",
    "# information can get from dictionary by key like address in this example\n",
    "customer = {\n",
    "    \"first name\": \"David\",\n",
    "    \"last name\": \"Elliott\", \n",
    "    \"address\": \"4803 Wellesley St.\"\n",
    "}\n",
    "print(customer[\"address\"])"
   ]
  },
  {
   "cell_type": "code",
   "execution_count": 59,
   "metadata": {},
   "outputs": [
    {
     "name": "stdout",
     "output_type": "stream",
     "text": [
      "pakistan.\n"
     ]
    }
   ],
   "source": [
    "# Dictionary examples : getting information from dictionary\n",
    "# information can get from dictionary by key like 5 in this example\n",
    "# key can also be numeric\n",
    "country = {\n",
    "    1 : \"Denmark\",\n",
    "    2 : \"England\", \n",
    "    3 : \"pakistan.\"\n",
    "}\n",
    "print(country[3])"
   ]
  },
  {
   "cell_type": "code",
   "execution_count": 65,
   "metadata": {},
   "outputs": [
    {
     "name": "stdout",
     "output_type": "stream",
     "text": [
      "a pair of ones\n"
     ]
    }
   ],
   "source": [
    "# Dictionary examples : getting information from dictionary\n",
    "# keys data types not matter in dictionary\n",
    "\n",
    "things_to_remember = {0: \"the lowest number\",\n",
    "                      \"a dozen\": 12, \n",
    "                      \"snake eyes\": \"a pair of ones\", \n",
    "                      13: \"a baker's dozen\"}\n",
    "print(things_to_remember[\"snake eyes\"])"
   ]
  },
  {
   "cell_type": "code",
   "execution_count": 67,
   "metadata": {},
   "outputs": [
    {
     "name": "stdout",
     "output_type": "stream",
     "text": [
      "{'first name': 'David', 'last name': 'Elliott', 'address': 'Karachi'}\n"
     ]
    }
   ],
   "source": [
    "# changing values in dictionary\n",
    "\n",
    "customer = {\n",
    "    \"first name\": \"David\",\n",
    "    \"last name\": \"Elliott\", \n",
    "    \"address\": \"4803 Wellesley St.\"\n",
    "}\n",
    "customer[\"address\"] = 'Karachi'\n",
    "print(customer)"
   ]
  },
  {
   "cell_type": "code",
   "execution_count": 68,
   "metadata": {},
   "outputs": [
    {
     "name": "stdout",
     "output_type": "stream",
     "text": [
      "{'first name': 'David', 'last name': 'Elliott', 'address': '4803 Wellesley St.', 'language': 'English'}\n"
     ]
    }
   ],
   "source": [
    "# adding items in dictionary\n",
    "\n",
    "customer = {\n",
    "    \"first name\": \"David\",\n",
    "    \"last name\": \"Elliott\", \n",
    "    \"address\": \"4803 Wellesley St.\"\n",
    "}\n",
    "customer[\"language\"] = 'English'\n",
    "print(customer)"
   ]
  },
  {
   "cell_type": "code",
   "execution_count": 69,
   "metadata": {},
   "outputs": [
    {
     "name": "stdout",
     "output_type": "stream",
     "text": [
      "{'first name': 'David', 'last name': 'Elliott'}\n"
     ]
    }
   ],
   "source": [
    "# deleting items in dictionary\n",
    "\n",
    "customer = {\n",
    "    \"first name\": \"David\",\n",
    "    \"last name\": \"Elliott\", \n",
    "    \"address\": \"4803 Wellesley St.\"\n",
    "}\n",
    "\n",
    "del customer[\"address\"]\n",
    "print(customer)"
   ]
  },
  {
   "cell_type": "code",
   "execution_count": 74,
   "metadata": {},
   "outputs": [
    {
     "name": "stdout",
     "output_type": "stream",
     "text": [
      "David\n",
      "Elliott\n",
      "4803 Wellesley St.\n"
     ]
    }
   ],
   "source": [
    "# looping in dictionary\n",
    "# same syntax of for loop\n",
    "# .values shows the all values of dictionary\n",
    "\n",
    "customer = {\n",
    "    \"first name\": \"David\",\n",
    "    \"last name\": \"Elliott\", \n",
    "    \"address\": \"4803 Wellesley St.\"\n",
    "}\n",
    "\n",
    "for each_value in customer.values():\n",
    "  print(each_value)\n"
   ]
  },
  {
   "cell_type": "code",
   "execution_count": 75,
   "metadata": {},
   "outputs": [
    {
     "name": "stdout",
     "output_type": "stream",
     "text": [
      "first name\n",
      "last name\n",
      "address\n"
     ]
    }
   ],
   "source": [
    "# looping in dictionary\n",
    "# same syntax of for loop\n",
    "# .key shows the all keys of dictionary\n",
    "\n",
    "customer = {\n",
    "    \"first name\": \"David\",\n",
    "    \"last name\": \"Elliott\", \n",
    "    \"address\": \"4803 Wellesley St.\"\n",
    "}\n",
    "\n",
    "for each_value in customer.keys():\n",
    "  print(each_value)\n"
   ]
  },
  {
   "cell_type": "code",
   "execution_count": 78,
   "metadata": {},
   "outputs": [
    {
     "name": "stdout",
     "output_type": "stream",
     "text": [
      "first name keys:\n",
      "last name keys:\n",
      "address keys:\n",
      "David values:\n",
      "Elliott values:\n",
      "4803 Wellesley St. values:\n"
     ]
    }
   ],
   "source": [
    "# for looping in dictionary\n",
    "# same syntax of for loop\n",
    "# .key shows the all keys of dictionary\n",
    "#.values shows the all values of dictionary\n",
    "\n",
    "customer = {\n",
    "    \"first name\": \"David\",\n",
    "    \"last name\": \"Elliott\", \n",
    "    \"address\": \"4803 Wellesley St.\"\n",
    "}\n",
    "\n",
    "for each_value in customer.keys():\n",
    "  print(each_value,\"keys:\")\n",
    "for each_value in customer.values():\n",
    "  print(each_value,\"values:\")\n"
   ]
  },
  {
   "cell_type": "code",
   "execution_count": 81,
   "metadata": {},
   "outputs": [
    {
     "name": "stdout",
     "output_type": "stream",
     "text": [
      "The customer's first name is David\n",
      "The customer's last name is Elliott\n",
      "The customer's address is 4803 Wellesley St.\n"
     ]
    }
   ],
   "source": [
    "# for looping in dictionary\n",
    "customer = {\n",
    "    \"first name\": \"David\",\n",
    "    \"last name\": \"Elliott\", \n",
    "    \"address\": \"4803 Wellesley St.\"\n",
    "}\n",
    "for each_key, each_value in customer.items():\n",
    "  print(\"The customer's \" + each_key + \" is \" + each_value)"
   ]
  },
  {
   "cell_type": "code",
   "execution_count": null,
   "metadata": {},
   "outputs": [],
   "source": []
  }
 ],
 "metadata": {
  "kernelspec": {
   "display_name": "Python 3",
   "language": "python",
   "name": "python3"
  },
  "language_info": {
   "codemirror_mode": {
    "name": "ipython",
    "version": 3
   },
   "file_extension": ".py",
   "mimetype": "text/x-python",
   "name": "python",
   "nbconvert_exporter": "python",
   "pygments_lexer": "ipython3",
   "version": "3.7.4"
  }
 },
 "nbformat": 4,
 "nbformat_minor": 2
}
