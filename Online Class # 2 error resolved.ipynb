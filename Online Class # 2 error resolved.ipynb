{
 "cells": [
  {
   "cell_type": "code",
   "execution_count": 93,
   "metadata": {},
   "outputs": [
    {
     "name": "stdout",
     "output_type": "stream",
     "text": [
      "0\n"
     ]
    }
   ],
   "source": [
    "# nested statement example: means if condition is used in if condition\n",
    "# elif is used for  more than if condition\n",
    "# nested statement example: means if condition is used in if condition\n",
    "# if both statements is true then AND condition is true else false\n",
    "# if atleast only one of the  statements is true then OR condition is true else false\n",
    "a = 5\n",
    "b = 6\n",
    "c = 7\n",
    "d = 7\n",
    "e = 9\n",
    "g = 10\n",
    "f = 11\n",
    "x = 12\n",
    "y = 12\n",
    "h = 0\n",
    "\n",
    "if c == d:\n",
    "        if x == y:\n",
    "         g = h\n",
    "        print(g)\n",
    "elif a == b:\n",
    " g = h\n",
    " print(g)\n",
    "else:\n",
    "   e = f\n",
    "   print(e)\n",
    "   \n",
    "            \n"
   ]
  },
  {
   "cell_type": "code",
   "execution_count": null,
   "metadata": {},
   "outputs": [],
   "source": []
  },
  {
   "cell_type": "code",
   "execution_count": 78,
   "metadata": {},
   "outputs": [
    {
     "ename": "SyntaxError",
     "evalue": "invalid syntax (<ipython-input-78-cc0b4eeb9f7e>, line 1)",
     "output_type": "error",
     "traceback": [
      "\u001b[1;36m  File \u001b[1;32m\"<ipython-input-78-cc0b4eeb9f7e>\"\u001b[1;36m, line \u001b[1;32m1\u001b[0m\n\u001b[1;33m    elif a == b:\u001b[0m\n\u001b[1;37m       ^\u001b[0m\n\u001b[1;31mSyntaxError\u001b[0m\u001b[1;31m:\u001b[0m invalid syntax\n"
     ]
    }
   ],
   "source": []
  },
  {
   "cell_type": "code",
   "execution_count": null,
   "metadata": {},
   "outputs": [],
   "source": []
  }
 ],
 "metadata": {
  "kernelspec": {
   "display_name": "Python 3",
   "language": "python",
   "name": "python3"
  },
  "language_info": {
   "codemirror_mode": {
    "name": "ipython",
    "version": 3
   },
   "file_extension": ".py",
   "mimetype": "text/x-python",
   "name": "python",
   "nbconvert_exporter": "python",
   "pygments_lexer": "ipython3",
   "version": "3.7.4"
  }
 },
 "nbformat": 4,
 "nbformat_minor": 2
}
