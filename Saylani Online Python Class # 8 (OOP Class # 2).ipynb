{
 "cells": [
  {
   "cell_type": "code",
   "execution_count": 85,
   "metadata": {},
   "outputs": [],
   "source": [
    "# OOP EXAMPLES\n",
    "# class can be real world scenario or problem in which object is created \n",
    "# and in further programming we create instance of that object\n",
    "# objects is a feature of a class for eg: car is a \"class\" and their tyres ,headlight,backlight ,seats etc are its \"object\"\n",
    "# and then object is further used\n",
    "# lets take example as my car can move upto 120 km/hr or my car can move 16 km/litre etc are the functionality of car\n",
    "# functionality can differ as per mutiple cars or class and that functionality of object which we call in class is known \n",
    "# as \"Methods\" . functionality within the class is known as \"Methods\""
   ]
  },
  {
   "cell_type": "code",
   "execution_count": 3,
   "metadata": {},
   "outputs": [
    {
     "data": {
      "text/plain": [
       "<__main__.Car at 0xe3ca153a48>"
      ]
     },
     "execution_count": 3,
     "metadata": {},
     "output_type": "execute_result"
    }
   ],
   "source": [
    "# OOP EXAMPLES\n",
    "\n",
    "class Car():\n",
    "    def __init__(self,name,model,color):      # for creating of attributes of class i.e: self.name,self.model,self.color\n",
    "        self.name = name                     # now that attribute is used as instance in program\n",
    "        self.model = model                   # now that attribute is used as instance in program\n",
    "        self.color = color                   # now that attribute is used as instance in program\n",
    "    \n",
    "Car1 = Car(\"Audi\",\"A3\",\"Black\")              # instance creation i.e: Car1\n",
    "                                             # (\"Audi\",\"A3\",\"Black\") is an argument which we pass in parameters i.e:\n",
    "                                             # (self,name,model,color)\n",
    "        \n",
    "Car1"
   ]
  },
  {
   "cell_type": "code",
   "execution_count": 7,
   "metadata": {},
   "outputs": [
    {
     "name": "stdout",
     "output_type": "stream",
     "text": [
      "Audi\n",
      "A3\n",
      "Black\n"
     ]
    }
   ],
   "source": [
    "# OOP EXAMPLES\n",
    "\n",
    "class Car():\n",
    "    def __init__(self,name,model,color):      # for creating of attributes of class i.e: self.name,self.model,self.color\n",
    "        self.name = name                     # now that attribute is used as instance in program\n",
    "        self.model = model                   # now that attribute is used as instance in program\n",
    "        self.color = color                   # now that attribute is used as instance in program\n",
    "    \n",
    "Car1 = Car(\"Audi\",\"A3\",\"Black\")              # instance creation i.e: Car1\n",
    "                                             # (\"Audi\",\"A3\",\"Black\") is an argument which we pass in parameters i.e:\n",
    "                                             # (self,name,model,color)\n",
    "        \n",
    "print(Car1.name)\n",
    "print(Car1.model)\n",
    "print(Car1.color)"
   ]
  },
  {
   "cell_type": "code",
   "execution_count": 15,
   "metadata": {},
   "outputs": [
    {
     "name": "stdout",
     "output_type": "stream",
     "text": [
      "13 kilometer per liter\n"
     ]
    }
   ],
   "source": [
    "# OOP EXAMPLES of method creating\n",
    "\n",
    "class Car():\n",
    "    def __init__(self,name,model,color):      # for creating of attributes of class i.e: self.name,self.model,self.color\n",
    "        self.name = name                     # now that attribute is used as instance in program\n",
    "        self.model = model                   # now that attribute is used as instance in program\n",
    "        self.color = color                   # now that attribute is used as instance in program\n",
    "        \n",
    "    def average(self,kilo):                               # method creation\n",
    "         print(\"{} kilometer per liter\".format(kilo))     # method creation in oop is same as function\n",
    "            \n",
    "    def tank(self):                               # method creation\n",
    "         print(\"Yes\")                             # method creation in oop is same as function\n",
    "        \n",
    "    \n",
    "Car1 = Car(\"Audi\",\"A3\",\"Black\")              # instance creation i.e: Car1\n",
    "                                             # (\"Audi\",\"A3\",\"Black\") is an argument which we pass in parameters i.e:\n",
    "                                             # (self,name,model,color)\n",
    "        \n",
    "Car1.average(13)"
   ]
  },
  {
   "cell_type": "code",
   "execution_count": 17,
   "metadata": {},
   "outputs": [
    {
     "name": "stdout",
     "output_type": "stream",
     "text": [
      "Yes it is fuel car\n"
     ]
    }
   ],
   "source": [
    "# OOP EXAMPLES of method creating\n",
    "\n",
    "class Car():\n",
    "    def __init__(self,name,model,color):      # for creating of attributes of class i.e: self.name,self.model,self.color\n",
    "        self.name = name                     # now that attribute is used as instance in program\n",
    "        self.model = model                   # now that attribute is used as instance in program\n",
    "        self.color = color                   # now that attribute is used as instance in program\n",
    "        \n",
    "    def average(self,kilo):                               # method creation\n",
    "         print(\"{} kilometer per liter\".format(kilo))     # method creation in oop is same as function\n",
    "            \n",
    "    def tank(self):                               # method creation\n",
    "         print(\"Yes it is fuel car\")                             # method creation in oop is same as function\n",
    "        \n",
    "    \n",
    "Car1 = Car(\"Audi\",\"A3\",\"Black\")              # instance creation i.e: Car1\n",
    "                                             # (\"Audi\",\"A3\",\"Black\") is an argument which we pass in parameters i.e:\n",
    "                                             # (self,name,model,color)\n",
    "        \n",
    "Car1.tank()"
   ]
  },
  {
   "cell_type": "markdown",
   "metadata": {},
   "source": [
    "# Inheritance Example"
   ]
  },
  {
   "cell_type": "code",
   "execution_count": 25,
   "metadata": {},
   "outputs": [
    {
     "name": "stdout",
     "output_type": "stream",
     "text": [
      "=============Parent Class Instance============\n",
      "10 kilometer per liter\n",
      "Yes it is fuel car\n",
      "=============Child Class Instance============\n",
      "20 kilometer per liter\n",
      "Yes it is fuel car\n"
     ]
    }
   ],
   "source": [
    "# Inheritance Example\n",
    "\n",
    "class Car():           # parent class                  \n",
    "    def __init__(self,name,model,color):      # for creating of attributes of class i.e: self.name,self.model,self.color\n",
    "        self.name = name                     # now that attribute is used as instance in program\n",
    "        self.model = model                   # now that attribute is used as instance in program\n",
    "        self.color = color                   # now that attribute is used as instance in program\n",
    "        \n",
    "    def average(self,kilo):                               # method creation\n",
    "         print(\"{} kilometer per liter\".format(kilo))     # method creation in oop is same as function\n",
    "            \n",
    "    def tank(self):                               # method creation\n",
    "         print(\"Yes it is fuel car\")                             # method creation in oop is same as function\n",
    "        \n",
    "class Electric_Car(Car):   # child class\n",
    "    def __init__(self,name,model,color): # same instanttiation method as parent class with same attribute name\n",
    "        super().__init__(name,model,color)        # super function is must when creating child class\n",
    "        \n",
    "Car1 = Car(\"Audi\",\"A3\",\"Black\")              # instance creation i.e: Car1\n",
    "                                             # (\"Audi\",\"A3\",\"Black\") is an argument which we pass in parameters i.e:\n",
    "                                             # (self,name,model,color)\n",
    "        \n",
    "print(\"=============Parent Class Instance============\")\n",
    "Car1.average(10)             \n",
    "Car1.tank()                  \n",
    "        \n",
    "new_car = Electric_Car(\"Audi\",\"A8\",\"Brown\")\n",
    "\n",
    "print(\"=============Child Class Instance============\")\n",
    "new_car.average(20)             # as average  method is created in Car class(parent class) but it is \n",
    "new_car.tank()                  # used also with new_car which is instance of Electric_Car(child class)"
   ]
  },
  {
   "cell_type": "code",
   "execution_count": 28,
   "metadata": {},
   "outputs": [
    {
     "name": "stdout",
     "output_type": "stream",
     "text": [
      "=============Parent Class Instance============\n",
      "10 kilometer per liter\n",
      "Yes it is fuel car\n",
      "=============Child Class Instance============\n",
      "20 kilometer per liter\n",
      "No it is not a fuel car\n",
      "The car name is: Audi \n",
      "The car model is: A8 \n",
      "The car color is: Brown \n",
      " \n"
     ]
    }
   ],
   "source": [
    "# Inheritance Example no : 2 (add extra things in child class)\n",
    "\n",
    "class Car():           # parent class                  \n",
    "    def __init__(self,name,model,color):      # for creating of attributes of class i.e: self.name,self.model,self.color\n",
    "        self.name = name                     # now that attribute is used as instance in program\n",
    "        self.model = model                   # now that attribute is used as instance in program\n",
    "        self.color = color                   # now that attribute is used as instance in program\n",
    "        \n",
    "    def average(self,kilo):                               # method creation\n",
    "         print(\"{} kilometer per liter\".format(kilo))     # method creation in oop is same as function\n",
    "            \n",
    "    def tank(self):                               # method creation\n",
    "         print(\"Yes it is fuel car\")                             # method creation in oop is same as function\n",
    "        \n",
    "class Electric_Car(Car):   # child class\n",
    "    def __init__(self,name,model,color): # same instanttiation method as parent class with same attribute name\n",
    "        super().__init__(name,model,color)        # super function is must when creating child class\n",
    "        \n",
    "    def tank(self):                               # method creation\n",
    "         print(\"No it is not a fuel car\") \n",
    "            \n",
    "    def get_description(self):              # extra method of child class\n",
    "        print(\"The car name is: {} \\nThe car model is: {} \\nThe car color is: {} \\n \".format(self.name,self.model,self.color))\n",
    "        \n",
    "        \n",
    "Car1 = Car(\"Audi\",\"A3\",\"Black\")              # instance creation i.e: Car1\n",
    "                                             # (\"Audi\",\"A3\",\"Black\") is an argument which we pass in parameters i.e:\n",
    "                                             # (self,name,model,color)\n",
    "        \n",
    "print(\"=============Parent Class Instance============\")\n",
    "Car1.average(10)             \n",
    "Car1.tank()                  \n",
    "        \n",
    "new_car = Electric_Car(\"Audi\",\"A8\",\"Brown\")\n",
    "\n",
    "print(\"=============Child Class Instance============\")\n",
    "new_car.average(20)             # as average  method is created in Car class(parent class) but it is \n",
    "new_car.tank()                  # used also with new_car which is instance of Electric_Car(child class)\n",
    "new_car.get_description()       # extra method of child class"
   ]
  },
  {
   "cell_type": "markdown",
   "metadata": {},
   "source": [
    "# Encapsulation\n",
    "# encapsulation means which encapsulate our attributes and methods in class\n",
    "# public means accessible throughout the program\n",
    "# private means accessible only inside the current class\n",
    "# protected means accessible only by thier child class\n",
    "# every class in python is default public\n",
    "# protected can be made by single underscore\n",
    "# private can be made by double underscore"
   ]
  },
  {
   "cell_type": "code",
   "execution_count": 42,
   "metadata": {},
   "outputs": [
    {
     "name": "stdout",
     "output_type": "stream",
     "text": [
      "Original Average without double underscore\n",
      "30 kilometer per litre\n",
      "Updated Average without double underscore,as you seen value can easily be updated without enscapsulation\n",
      "60 kilometer per litre\n"
     ]
    }
   ],
   "source": [
    "# Encapsulation demo without double underscore in below\n",
    "\n",
    "class New_Car():\n",
    "    def __init__(self):          \n",
    "        self.MaxAverage = 30    \n",
    "        \n",
    "    def Average(self):\n",
    "        print(\"{} kilometer per litre\".format(self.MaxAverage))\n",
    "        \n",
    "        \n",
    "obj = New_Car()\n",
    "print(\"Original Average without double underscore\")\n",
    "obj.Average()\n",
    "\n",
    "obj.MaxAverage = 60\n",
    "print(\"Updated Average without double underscore,as you seen value can easily be updated without enscapsulation\")\n",
    "obj.Average()"
   ]
  },
  {
   "cell_type": "code",
   "execution_count": 39,
   "metadata": {},
   "outputs": [
    {
     "name": "stdout",
     "output_type": "stream",
     "text": [
      "Original Average with double underscore\n",
      "30 kilometer per litre\n",
      "Updated Average with double underscore,as you seen value cannot be updated unlike in above cell\n",
      "30 kilometer per litre\n"
     ]
    }
   ],
   "source": [
    "# Encapsulation demo with double underscore in below\n",
    "\n",
    "class New_Car():\n",
    "    def __init__(self):          \n",
    "        self.__MaxAverage = 30    # double underscore makes the value private and accessible only inside the current class\n",
    "        \n",
    "    def Average(self):\n",
    "        print(\"{} kilometer per litre\".format(self.__MaxAverage))\n",
    "        \n",
    "        \n",
    "obj = New_Car()\n",
    "print(\"Original Average with double underscore\")\n",
    "obj.Average()\n",
    "\n",
    "# after updating __MaxAverage when double underscore is available\n",
    "obj.__MaxAverage = 60\n",
    "print(\"Updated Average with double underscore,as you seen value cannot be updated unlike in above cell\")\n",
    "obj.Average()"
   ]
  },
  {
   "cell_type": "markdown",
   "metadata": {},
   "source": [
    "# Updating technique of Private Values"
   ]
  },
  {
   "cell_type": "code",
   "execution_count": 63,
   "metadata": {},
   "outputs": [
    {
     "name": "stdout",
     "output_type": "stream",
     "text": [
      "========Original Average with double underscore given below========\n",
      "30 kilometer per litre\n",
      "========Updated Average with double underscore,as you seen below value cannot be updated unlike in above cell========\n",
      "30 kilometer per litre\n",
      "=========Updated Average with double underscore as well as with the use of method to\n",
      "=========update,as you seen below value is now updated unlike in above line     \n",
      "40 kilometer per litre\n"
     ]
    }
   ],
   "source": [
    "# Encapsulation demo with double underscore in below\n",
    "# Updating technique of Private Values\n",
    "# Private Values can be updated by method only when both are in same class\n",
    "\n",
    "class New_Car():\n",
    "    def __init__(self):          \n",
    "        self.__MaxAverage = 30    # double underscore makes the value private and accessible only inside the current class\n",
    "        \n",
    "    def Average(self):\n",
    "        print(\"{} kilometer per litre\".format(self.__MaxAverage))\n",
    "        \n",
    "    def Update_Average(self,Updated_Value):        # double underscore can't be change unless set by method which is also must\n",
    "        self.__MaxAverage = Updated_Value          # be in current class\n",
    "        \n",
    "obj = New_Car()\n",
    "print(\"========Original Average with double underscore given below========\")\n",
    "obj.Average()\n",
    "\n",
    "# after updating __MaxAverage when double underscore is available\n",
    "obj.__MaxAverage = 60\n",
    "\n",
    "\n",
    "# after updating __MaxAverage when double underscore is available\n",
    "obj.__MaxAverage = 60\n",
    "print(\"========Updated Average with double underscore,as you seen below value cannot be updated unlike in above cell========\")\n",
    "obj.Average()\n",
    "\n",
    "\n",
    "display_message=\"=========Updated Average with double underscore as well as with the use of method to\\n=========update,as you seen below value is now updated unlike in above line     \"\n",
    "print(display_message)\n",
    "obj.Update_Average(40)\n",
    "obj.Average()"
   ]
  },
  {
   "cell_type": "markdown",
   "metadata": {},
   "source": [
    "# Polymorphism"
   ]
  },
  {
   "cell_type": "code",
   "execution_count": null,
   "metadata": {},
   "outputs": [],
   "source": [
    "# Over loading is a  compile time \n",
    "# Over loading is , in a single class there is 2 method of same name with different parameters\n",
    "# overriding is a runtime\n",
    "# Over riding is , same method in child and parent class"
   ]
  },
  {
   "cell_type": "markdown",
   "metadata": {},
   "source": [
    "# Simple Polymorphism Example"
   ]
  },
  {
   "cell_type": "code",
   "execution_count": 70,
   "metadata": {},
   "outputs": [
    {
     "name": "stdout",
     "output_type": "stream",
     "text": [
      "======Detail of Pakistan:\n",
      "The Capital of Pakistan is Islamabad\n",
      "Population of Pakistan is 20 Crore\n",
      "======Detail of USA:\n",
      "The Capital of USA is Washington DC\n",
      "Population of USA is 40 Crore\n"
     ]
    }
   ],
   "source": [
    "# Polymorphism means single entity can be used as many forms\n",
    "# as person can be student,husband and teacher\n",
    "\n",
    "class Pakistan():\n",
    "    def detail(self):\n",
    "        print(\"The Capital of Pakistan is Islamabad\\nPopulation of Pakistan is 20 Crore\")\n",
    "Pak = Pakistan()   # define outside the scope of class\n",
    "        \n",
    "class Usa():\n",
    "    def detail(self):\n",
    "        print(\"The Capital of USA is Washington DC\\nPopulation of USA is 40 Crore\")\n",
    "    \n",
    "USA = Usa()    # define outside the scope of class\n",
    "\n",
    "        # define outside the scope of class\n",
    "def description(Country):     # SAME FUNCTION USE FOR BOTH CLASSESS\n",
    "      Country.detail()\n",
    "        \n",
    "        \n",
    "print(\"======Detail of Pakistan:\")\n",
    "description(Pak)              # SAME FUNCTION USE FOR MANY ARGUMENTS\n",
    "                              # AS PER ARGUMENTS CHANGE IN BEHAVIOUR OCCURS\n",
    "    \n",
    "print(\"======Detail of USA:\")        # SAME FUNCTION USE FOR MANY ARGUMENTS\n",
    "description(USA)               # AS PER ARGUMENTS CHANGE IN BEHAVIOUR OCCURS"
   ]
  },
  {
   "cell_type": "markdown",
   "metadata": {},
   "source": [
    "# Overriding Example"
   ]
  },
  {
   "cell_type": "code",
   "execution_count": 71,
   "metadata": {},
   "outputs": [
    {
     "name": "stdout",
     "output_type": "stream",
     "text": [
      "=============Parent Class Instance============\n",
      "Yes it is fuel car\n",
      "=============Child Class Instance============\n",
      "No it is not a fuel car\n"
     ]
    }
   ],
   "source": [
    "# in this example method tank is override as method tank is available on both classes i.e parent and child and as you\n",
    "# know child class can access all methods of parent class as method tank and in this example child class also has method tank\n",
    "# so it override \n",
    "# overriding is a runtime\n",
    "# Over riding is , same method in child and parent class\n",
    "\n",
    "class Car():           # parent class                  \n",
    "    def __init__(self,name,model,color):     \n",
    "        self.name = name                     \n",
    "        self.model = model                   \n",
    "        self.color = color                   \n",
    "         \n",
    "            \n",
    "    def tank(self):                               \n",
    "         print(\"Yes it is fuel car\")                             \n",
    "        \n",
    "class Electric_Car(Car):   # child class\n",
    "    def __init__(self,name,model,color): \n",
    "        super().__init__(name,model,color)        \n",
    "        \n",
    "    def tank(self):                               # overriding\n",
    "         print(\"No it is not a fuel car\") \n",
    "            \n",
    "        \n",
    "        \n",
    "Car1 = Car(\"Audi\",\"A3\",\"Black\")              # instance creation i.e: Car1\n",
    "                                             \n",
    "print(\"=============Parent Class Instance============\")             \n",
    "Car1.tank()                  \n",
    "        \n",
    "new_car = Electric_Car(\"Audi\",\"A8\",\"Brown\")\n",
    "\n",
    "print(\"=============Child Class Instance============\")\n",
    "new_car.tank()                  # it override parent class tank method"
   ]
  },
  {
   "cell_type": "markdown",
   "metadata": {},
   "source": [
    "# Over Loading Example"
   ]
  },
  {
   "cell_type": "code",
   "execution_count": 84,
   "metadata": {},
   "outputs": [
    {
     "name": "stdout",
     "output_type": "stream",
     "text": [
      "9\n",
      "12\n"
     ]
    }
   ],
   "source": [
    "# Over loading is a  compile time \n",
    "# Over loading maens same name methods except parameters in a single class\n",
    "\n",
    "class Overloading_Demo():\n",
    "    def sum(self,a=None,b=None,c=None):          \n",
    "        if a!=None and b!=None and c!=None:\n",
    "            print(a+b+c)\n",
    "            \n",
    "        elif a!=None and b!=None and c== None:\n",
    "             print(a+b)\n",
    "                \n",
    "        elif a!=None and b==None and c!=None:\n",
    "             print(a+c)\n",
    "                \n",
    "        elif a==None and b!=None and c!=None:\n",
    "             print(b+c)\n",
    "    \n",
    "        \n",
    "obj = Overloading_Demo()\n",
    "\n",
    "obj.sum(5,4)     # calling same method for differnt parameters\n",
    "obj.sum(5,4,3)   # change in no. of parameters"
   ]
  },
  {
   "cell_type": "markdown",
   "metadata": {},
   "source": [
    "# Abstraction\n",
    "\n",
    "# In Abstract class we cannot define its attributes or methods,we just declare\n",
    "# the name of attributes or methods but not defined it then we make child class\n",
    "# of it and there we defined that attributes or methods \n",
    "# No Instance is created of Abstract class"
   ]
  },
  {
   "cell_type": "code",
   "execution_count": 88,
   "metadata": {},
   "outputs": [
    {
     "name": "stdout",
     "output_type": "stream",
     "text": [
      "He gives 5 Tola!\n"
     ]
    }
   ],
   "source": [
    "from abc import ABC,abstractmethod   # abc is a module install with the anaconda, ABC means abstract class,abstractmethod\n",
    "                                    # means abstract class method all these must be import from module \"abc\" for abstract class\n",
    "    \n",
    "# in abstraction it is necessay for child class of abstract class to define and \n",
    "#call the attributes or methods of abstract class else error will be generate\n",
    "\n",
    "class Nikkah(ABC):    # ABC which is abstract class must be passed as parameter of abstract class\n",
    "    @abstractmethod   # necessary in abstract class for creating abstract methods\n",
    "                      # @abstractmethod is called decorators\n",
    "    def haq_mehar(self):   # abstract class method\n",
    "        pass \n",
    "    \n",
    "class human1(Nikkah):  # child class\n",
    "    def haq_mehar(self,tola):        # it is necessary to define abstract i.e parent class method\n",
    "        print(\"He gives \" + str(tola) + \" Tola!\")\n",
    "\n",
    "obj = human1()      # instance of child class\n",
    "\n",
    "obj.haq_mehar(5)"
   ]
  },
  {
   "cell_type": "code",
   "execution_count": null,
   "metadata": {},
   "outputs": [],
   "source": []
  }
 ],
 "metadata": {
  "kernelspec": {
   "display_name": "Python 3",
   "language": "python",
   "name": "python3"
  },
  "language_info": {
   "codemirror_mode": {
    "name": "ipython",
    "version": 3
   },
   "file_extension": ".py",
   "mimetype": "text/x-python",
   "name": "python",
   "nbconvert_exporter": "python",
   "pygments_lexer": "ipython3",
   "version": "3.7.4"
  }
 },
 "nbformat": 4,
 "nbformat_minor": 2
}
