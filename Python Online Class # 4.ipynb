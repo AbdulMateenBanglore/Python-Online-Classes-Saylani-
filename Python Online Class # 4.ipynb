{
 "cells": [
  {
   "cell_type": "code",
   "execution_count": 1,
   "metadata": {},
   "outputs": [
    {
     "name": "stdout",
     "output_type": "stream",
     "text": [
      "{'serial no.': 1, 'question': 'What is your name', 'options.': ['Amin', 'Ahsan', 'Shahriyar', 'Mateen'], 'answer': 'Mateen'}\n"
     ]
    }
   ],
   "source": [
    "#List of dictionaries\n",
    "question = [\n",
    "    {\n",
    "    \"serial no.\":1,\n",
    "    \"question\":\"What is your name\",\n",
    "    \"options.\":[\"Amin\",\"Ahsan\",\"Shahriyar\",\"Mateen\"],             # list as a value of  dictionary\n",
    "    \"answer\":\"Mateen\"\n",
    "    },\n",
    "    {\n",
    "    \"serial no.\":2,\n",
    "    \"question\":\"What is your country name\",\n",
    "    \"options.\":[\"Pakistan\",\"Africa\",\"USA\",\"UAE\"],               # list as a value of  dictionary\n",
    "    \"answer\":\"Pakistan\"\n",
    "    },\n",
    "    {\n",
    "    \"serial no.\":3,\n",
    "    \"question\":\"What is your City name\",\n",
    "    \"options.\":[\"Karachi\",\"Abbotabad\",\"Lahore\",\"Quetta\"],          # list as a value of  dictionary\n",
    "    \"answer\":\"Karachi\"\n",
    "    },\n",
    "]\n",
    "print(question[0])"
   ]
  },
  {
   "cell_type": "code",
   "execution_count": 5,
   "metadata": {},
   "outputs": [
    {
     "name": "stdout",
     "output_type": "stream",
     "text": [
      "['Karachi', 'Abbotabad', 'Lahore', 'Quetta']\n"
     ]
    }
   ],
   "source": [
    "#List of dictionaries\n",
    "question = [\n",
    "    {\n",
    "    \"serial no.\":1,\n",
    "    \"question\":\"What is your name\",\n",
    "    \"options.\":[\"Amin\",\"Ahsan\",\"Shahriyar\",\"Mateen\"],          # list as a value of  dictionary\n",
    "    \"answer\":\"Mateen\"\n",
    "    },\n",
    "    {\n",
    "    \"serial no.\":2,\n",
    "    \"question\":\"What is your country name\",\n",
    "    \"options.\":[\"Pakistan\",\"Africa\",\"USA\",\"UAE\"],            # list as a value of  dictionary\n",
    "    \"answer\":\"Pakistan\"\n",
    "    },\n",
    "    {\n",
    "    \"serial no.\":3,\n",
    "    \"question\":\"What is your City name\",\n",
    "    \"options.\":[\"Karachi\",\"Abbotabad\",\"Lahore\",\"Quetta\"],      # list as a value of  dictionary\n",
    "    \"answer\":\"Karachi\"\n",
    "    },\n",
    "]\n",
    "print(question[2][\"options.\"])"
   ]
  },
  {
   "cell_type": "code",
   "execution_count": 9,
   "metadata": {},
   "outputs": [
    {
     "name": "stdout",
     "output_type": "stream",
     "text": [
      "[{'serial no.': 1, 'question': 'What is your name', 'options.': ['Amin', 'Ahsan', 'Shahriyar', 'Mateen'], 'answer': 'Mateen'}, {'serial no.': 2, 'question': 'What is your country name', 'options.': ['Pakistan', 'Africa', 'USA', 'UAE'], 'answer': 'Pakistan'}, {'serial no.': 3, 'question': 'What is your City name', 'options.': ['Karachi', 'Abbotabad', 'Lahore', 'Quetta'], 'answer': 'Karachi'}, {'serial no.': 4, 'question': 'What is the name of  Capital City of Pakistan', 'options.': ['Karachi', 'Islamabad', 'Lahore', 'Quetta'], 'answer': 'Islamabad'}]\n"
     ]
    }
   ],
   "source": [
    "# append dictionary into list of  dictionaries\n",
    "question = [\n",
    "    {\n",
    "    \"serial no.\":1,\n",
    "    \"question\":\"What is your name\",\n",
    "    \"options.\":[\"Amin\",\"Ahsan\",\"Shahriyar\",\"Mateen\"],       # list as a value of  dictionary\n",
    "    \"answer\":\"Mateen\"\n",
    "    },\n",
    "    {\n",
    "    \"serial no.\":2,\n",
    "    \"question\":\"What is your country name\",\n",
    "    \"options.\":[\"Pakistan\",\"Africa\",\"USA\",\"UAE\"],         # list as a value of  dictionary\n",
    "    \"answer\":\"Pakistan\"\n",
    "    },\n",
    "    {\n",
    "    \"serial no.\":3,\n",
    "    \"question\":\"What is your City name\",\n",
    "    \"options.\":[\"Karachi\",\"Abbotabad\",\"Lahore\",\"Quetta\"],     # list as a value of  dictionary\n",
    "    \"answer\":\"Karachi\"\n",
    "    },\n",
    "]\n",
    "\n",
    "new_dictionary={\n",
    "    \"serial no.\":4,\n",
    "    \"question\":\"What is the name of  Capital City of Pakistan\",\n",
    "    \"options.\":[\"Karachi\",\"Islamabad\",\"Lahore\",\"Quetta\"],       # list as a value of  dictionary\n",
    "    \"answer\":\"Islamabad\"\n",
    "}\n",
    "\n",
    "question.append(new_dictionary)\n",
    "\n",
    "print(question)"
   ]
  },
  {
   "cell_type": "code",
   "execution_count": 8,
   "metadata": {},
   "outputs": [
    {
     "name": "stdout",
     "output_type": "stream",
     "text": [
      "{'serial no.': 4, 'question': 'What is the name of Capital City of Pakistan', 'options.': ['Karachi', 'Islamabad', 'Lahore', 'Quetta'], 'answer': 'Islamabad'}\n"
     ]
    }
   ],
   "source": [
    "# append dictionary into list of  dictionaries\n",
    "question = [\n",
    "    {\n",
    "    \"serial no.\":1,\n",
    "    \"question\":\"What is your name\",\n",
    "    \"options.\":[\"Amin\",\"Ahsan\",\"Shahriyar\",\"Mateen\"],         # list as a value of  dictionary\n",
    "    \"answer\":\"Mateen\"\n",
    "    },\n",
    "    {\n",
    "    \"serial no.\":2,\n",
    "    \"question\":\"What is your country name\",\n",
    "    \"options.\":[\"Pakistan\",\"Africa\",\"USA\",\"UAE\"],           # list as a value of  dictionary\n",
    "    \"answer\":\"Pakistan\"\n",
    "    },\n",
    "    {\n",
    "    \"serial no.\":3,\n",
    "    \"question\":\"What is your City name\",\n",
    "    \"options.\":[\"Karachi\",\"Abbotabad\",\"Lahore\",\"Quetta\"],        # list as a value of  dictionary\n",
    "    \"answer\":\"Karachi\"\n",
    "    },\n",
    "]\n",
    "\n",
    "new_dictionary={\n",
    "    \"serial no.\":4,\n",
    "    \"question\":\"What is the name of Capital City of Pakistan\",\n",
    "    \"options.\":[\"Karachi\",\"Islamabad\",\"Lahore\",\"Quetta\"],        # list as a value of  dictionary\n",
    "    \"answer\":\"Islamabad\"\n",
    "}\n",
    "\n",
    "question.append(new_dictionary)\n",
    "\n",
    "print(question[3])"
   ]
  },
  {
   "cell_type": "code",
   "execution_count": 10,
   "metadata": {},
   "outputs": [
    {
     "name": "stdout",
     "output_type": "stream",
     "text": [
      "[{'serial no.': 1, 'question': 'What is your name', 'options.': ['Amin', 'Ahsan', 'Shahriyar', 'Mateen'], 'answer': 'Mateen'}, {'serial no.': 2, 'question': 'What is your country name', 'options.': ['Pakistan', 'Africa', 'USA', 'UAE'], 'answer': 'Pakistan'}, {'serial no.': 4, 'question': 'What is the name of Capital City of Pakistan', 'options.': ['Karachi', 'Islamabad', 'Lahore', 'Quetta'], 'answer': 'Islamabad'}, {'serial no.': 3, 'question': 'What is your City name', 'options.': ['Karachi', 'Abbotabad', 'Lahore', 'Quetta'], 'answer': 'Karachi'}]\n"
     ]
    }
   ],
   "source": [
    "# add a dictionary into particular index of list of  dictionaries\n",
    "question = [\n",
    "    {\n",
    "    \"serial no.\":1,\n",
    "    \"question\":\"What is your name\",\n",
    "    \"options.\":[\"Amin\",\"Ahsan\",\"Shahriyar\",\"Mateen\"],    # list as a value of  dictionary\n",
    "    \"answer\":\"Mateen\"\n",
    "    },\n",
    "    {\n",
    "    \"serial no.\":2,\n",
    "    \"question\":\"What is your country name\",\n",
    "    \"options.\":[\"Pakistan\",\"Africa\",\"USA\",\"UAE\"],   # list as a value of  dictionary\n",
    "    \"answer\":\"Pakistan\"\n",
    "    },\n",
    "    {\n",
    "    \"serial no.\":3,\n",
    "    \"question\":\"What is your City name\",\n",
    "    \"options.\":[\"Karachi\",\"Abbotabad\",\"Lahore\",\"Quetta\"],   # list as a value of  dictionary\n",
    "    \"answer\":\"Karachi\"\n",
    "    },\n",
    "]\n",
    "\n",
    "new_dictionary={\n",
    "    \"serial no.\":4,\n",
    "    \"question\":\"What is the name of Capital City of Pakistan\",\n",
    "    \"options.\":[\"Karachi\",\"Islamabad\",\"Lahore\",\"Quetta\"],   # list as a value of  dictionary\n",
    "    \"answer\":\"Islamabad\"\n",
    "}\n",
    "\n",
    "question.insert(2,new_dictionary)\n",
    "\n",
    "print(question)"
   ]
  },
  {
   "cell_type": "code",
   "execution_count": 11,
   "metadata": {},
   "outputs": [
    {
     "name": "stdout",
     "output_type": "stream",
     "text": [
      "{'serial no.': 4, 'question': 'What is the name of Capital City of Pakistan', 'options.': ['Karachi', 'Islamabad', 'Lahore', 'Quetta'], 'answer': 'Islamabad'}\n"
     ]
    }
   ],
   "source": [
    "# add a dictionary into particular index of list of  dictionaries\n",
    "question = [\n",
    "    {\n",
    "    \"serial no.\":1,\n",
    "    \"question\":\"What is your name\",\n",
    "    \"options.\":[\"Amin\",\"Ahsan\",\"Shahriyar\",\"Mateen\"],  # list as a value of  dictionary\n",
    "    \"answer\":\"Mateen\"\n",
    "    },\n",
    "    {\n",
    "    \"serial no.\":2,\n",
    "    \"question\":\"What is your country name\",\n",
    "    \"options.\":[\"Pakistan\",\"Africa\",\"USA\",\"UAE\"],  # list as a value of  dictionary\n",
    "    \"answer\":\"Pakistan\"\n",
    "    },\n",
    "    {\n",
    "    \"serial no.\":3,\n",
    "    \"question\":\"What is your City name\",\n",
    "    \"options.\":[\"Karachi\",\"Abbotabad\",\"Lahore\",\"Quetta\"], # list as a value of  dictionary\n",
    "    \"answer\":\"Karachi\"\n",
    "    },\n",
    "]\n",
    "\n",
    "new_dictionary={\n",
    "    \"serial no.\":4,\n",
    "    \"question\":\"What is the name of Capital City of Pakistan\",\n",
    "    \"options.\":[\"Karachi\",\"Islamabad\",\"Lahore\",\"Quetta\"],  # list as a value of  dictionary\n",
    "    \"answer\":\"Islamabad\"\n",
    "}\n",
    "\n",
    "question.insert(2,new_dictionary)\n",
    "\n",
    "print(question[2])"
   ]
  },
  {
   "cell_type": "code",
   "execution_count": 12,
   "metadata": {},
   "outputs": [
    {
     "name": "stdout",
     "output_type": "stream",
     "text": [
      "Lahore\n"
     ]
    }
   ],
   "source": [
    "# dictionary of list\n",
    "#  access value of index of  list as a value of  dictionary\n",
    "question = [\n",
    "    {\n",
    "    \"serial no.\":1,\n",
    "    \"question\":\"What is your name\",\n",
    "    \"options.\":[\"Amin\",\"Ahsan\",\"Shahriyar\",\"Mateen\"],             # list as a value of  dictionary\n",
    "    \"answer\":\"Mateen\"\n",
    "    },\n",
    "    {\n",
    "    \"serial no.\":2,\n",
    "    \"question\":\"What is your country name\",\n",
    "    \"options.\":[\"Pakistan\",\"Africa\",\"USA\",\"UAE\"],               # list as a value of  dictionary\n",
    "    \"answer\":\"Pakistan\"\n",
    "    },\n",
    "    {\n",
    "    \"serial no.\":3,\n",
    "    \"question\":\"What is your City name\",\n",
    "    \"options.\":[\"Karachi\",\"Abbotabad\",\"Lahore\",\"Quetta\"],          # list as a value of  dictionary\n",
    "    \"answer\":\"Karachi\"\n",
    "    },\n",
    "]\n",
    "print(question[2][\"options.\"][2])"
   ]
  },
  {
   "cell_type": "code",
   "execution_count": 14,
   "metadata": {},
   "outputs": [
    {
     "name": "stdout",
     "output_type": "stream",
     "text": [
      "{0: {'Name:': 'Abdul Mateen', 'Father Name:': 'Muhammad Naseer', 'Age:': 21}, 1: {'Name:': 'Amin ul haq', 'Father Name:': 'Haq', 'Age:': 15}, 2: {'Name:': 'Ahsan Shaikh', 'Father Name:': 'Jawed Shaikh', 'Age:': 18}, 3: {'Name:': 'Shahriyar Khan', 'Father Name:': 'Jamshed', 'Age:': 23}}\n"
     ]
    }
   ],
   "source": [
    "# dictionary of dictionary\n",
    "students = {\n",
    "  0:  {\n",
    "      \"Name:\":\"Abdul Mateen\",  \n",
    "      \"Father Name:\":\"Muhammad Naseer\",\n",
    "      \"Age:\":21\n",
    "    },\n",
    "  1:  {\n",
    "      \"Name:\":\"Amin ul haq\",  \n",
    "      \"Father Name:\":\"Haq\",\n",
    "      \"Age:\":15\n",
    "    },\n",
    "  2:  {\n",
    "      \"Name:\":\"Ahsan Shaikh\",  \n",
    "      \"Father Name:\":\"Jawed Shaikh\",\n",
    "      \"Age:\":18\n",
    "    },\n",
    "  3:  {\n",
    "      \"Name:\":\"Shahriyar Khan\",  \n",
    "      \"Father Name:\":\"Jamshed\",\n",
    "      \"Age:\":23\n",
    "    }\n",
    "}\n",
    "print(students)"
   ]
  },
  {
   "cell_type": "code",
   "execution_count": 15,
   "metadata": {},
   "outputs": [
    {
     "name": "stdout",
     "output_type": "stream",
     "text": [
      "{'Name:': 'Ahsan Shaikh', 'Father Name:': 'Jawed Shaikh', 'Age:': 18}\n"
     ]
    }
   ],
   "source": [
    "# dictionary of dictionary\n",
    "students = {\n",
    "  0:  {\n",
    "      \"Name:\":\"Abdul Mateen\",  \n",
    "      \"Father Name:\":\"Muhammad Naseer\",\n",
    "      \"Age:\":21\n",
    "    },\n",
    "  1:  {\n",
    "      \"Name:\":\"Amin ul haq\",  \n",
    "      \"Father Name:\":\"Haq\",\n",
    "      \"Age:\":15\n",
    "    },\n",
    "  2:  {\n",
    "      \"Name:\":\"Ahsan Shaikh\",  \n",
    "      \"Father Name:\":\"Jawed Shaikh\",\n",
    "      \"Age:\":18\n",
    "    },\n",
    "  3:  {\n",
    "      \"Name:\":\"Shahriyar Khan\",  \n",
    "      \"Father Name:\":\"Jamshed\",\n",
    "      \"Age:\":23\n",
    "    }\n",
    "}\n",
    "print(students[2])"
   ]
  },
  {
   "cell_type": "code",
   "execution_count": 16,
   "metadata": {},
   "outputs": [
    {
     "name": "stdout",
     "output_type": "stream",
     "text": [
      "{'Name:': 'Amin ul haq', 'Father Name:': 'Haq', 'Age:': 15}\n"
     ]
    }
   ],
   "source": [
    "# dictionary of dictionary\n",
    "students = {\n",
    " \"Abdul Mateen\" :  {\n",
    "      \"Name:\":\"Abdul Mateen\",  \n",
    "      \"Father Name:\":\"Muhammad Naseer\",\n",
    "      \"Age:\":21\n",
    "    },\n",
    "  \"Amin ul haq\":  {\n",
    "      \"Name:\":\"Amin ul haq\",  \n",
    "      \"Father Name:\":\"Haq\",\n",
    "      \"Age:\":15\n",
    "    },\n",
    "  \"Ahsan Shaikh\":  {\n",
    "      \"Name:\":\"Ahsan Shaikh\",  \n",
    "      \"Father Name:\":\"Jawed Shaikh\",\n",
    "      \"Age:\":18\n",
    "    },\n",
    "  \"Shahriyar Khan\":  {\n",
    "      \"Name:\":\"Shahriyar Khan\",  \n",
    "      \"Father Name:\":\"Jamshed\",\n",
    "      \"Age:\":23\n",
    "    }\n",
    "}\n",
    "print(students[\"Amin ul haq\"])"
   ]
  },
  {
   "cell_type": "code",
   "execution_count": 17,
   "metadata": {},
   "outputs": [
    {
     "name": "stdout",
     "output_type": "stream",
     "text": [
      "15\n"
     ]
    }
   ],
   "source": [
    "# dictionary of dictionary\n",
    "students = {\n",
    " \"Abdul Mateen\" :  {\n",
    "      \"Name:\":\"Abdul Mateen\",  \n",
    "      \"Father Name:\":\"Muhammad Naseer\",\n",
    "      \"Age:\":21\n",
    "    },\n",
    "  \"Amin ul haq\":  {\n",
    "      \"Name:\":\"Amin ul haq\",  \n",
    "      \"Father Name:\":\"Haq\",\n",
    "      \"Age:\":15\n",
    "    },\n",
    "  \"Ahsan Shaikh\":  {\n",
    "      \"Name:\":\"Ahsan Shaikh\",  \n",
    "      \"Father Name:\":\"Jawed Shaikh\",\n",
    "      \"Age:\":18\n",
    "    },\n",
    "  \"Shahriyar Khan\":  {\n",
    "      \"Name:\":\"Shahriyar Khan\",  \n",
    "      \"Father Name:\":\"Jamshed\",\n",
    "      \"Age:\":23\n",
    "    }\n",
    "}\n",
    "print(students[\"Amin ul haq\"][\"Age:\"])"
   ]
  },
  {
   "cell_type": "code",
   "execution_count": 2,
   "metadata": {},
   "outputs": [
    {
     "name": "stdout",
     "output_type": "stream",
     "text": [
      "1:What is the name of  Capital City of Pakistan\n",
      "Please write correct answer in input field: \n",
      "Karachi\n",
      "Islamabad\n",
      "Lahore\n",
      "Quetta\n",
      "Karachi\n",
      "Your Answer is: Karachi\n",
      "2:What is your country name\n",
      "Please write correct answer in input field: \n",
      "Pakistan\n",
      "Africa\n",
      "USA\n",
      "UAE\n",
      "Pakistan\n",
      "Your Answer is: Pakistan\n",
      "3:What is your City name\n",
      "Please write correct answer in input field: \n",
      "Karachi\n",
      "Abbotabad\n",
      "Lahore\n",
      "Quetta\n",
      "Karachi\n",
      "Your Answer is: Karachi\n",
      "Your score is :2\n"
     ]
    }
   ],
   "source": [
    "# quiz application\n",
    "\n",
    "questions = [\n",
    "    {\n",
    "    \"serial no.\":1,\n",
    "    \"question\":\"What is the name of  Capital City of Pakistan\",\n",
    "    \"options.\":[\"Karachi\",\"Islamabad\",\"Lahore\",\"Quetta\"],       # list as a value of  dictionary\n",
    "    \"answer\":\"Islamabad\"\n",
    "    },\n",
    "    {\n",
    "    \"serial no.\":2,\n",
    "    \"question\":\"What is your country name\",\n",
    "    \"options.\":[\"Pakistan\",\"Africa\",\"USA\",\"UAE\"],               # list as a value of  dictionary\n",
    "    \"answer\":\"Pakistan\"\n",
    "    },\n",
    "    {\n",
    "    \"serial no.\":3,\n",
    "    \"question\":\"What is your City name\",\n",
    "    \"options.\":[\"Karachi\",\"Abbotabad\",\"Lahore\",\"Quetta\"],          # list as a value of  dictionary\n",
    "    \"answer\":\"Karachi\"\n",
    "    },\n",
    "]\n",
    "\n",
    "score = 0      # counter variable\n",
    "                                                                        \n",
    "for question in questions:                                              # \\t use for space \n",
    "                                                                        # \\n use for line break\n",
    "    data = str(question[\"serial no.\"]) + \":\" + (question[\"question\"]) + \"\\n\" + (question[\"options.\"][0]) + \"\\n\"+ (question[\"options.\"][1]) + \"\\n\"+ (question[\"options.\"][2]) + \"\\n\"+ (question[\"options.\"][3]) +\"\\n\" \n",
    "    \n",
    "    answer = input(data)\n",
    "    print(\"Your Answer is:\" , answer)\n",
    "    if answer == question[\"answer\"]:        # first answer is user's answer and second is dictionarie's answer\n",
    "        score += 1\n",
    "        \n",
    "print(\"Your score is :\" + str(score))"
   ]
  },
  {
   "cell_type": "code",
   "execution_count": 9,
   "metadata": {},
   "outputs": [
    {
     "name": "stdout",
     "output_type": "stream",
     "text": [
      "5\n"
     ]
    }
   ],
   "source": [
    "# function examplea\n",
    "\n",
    "def addition():\n",
    "    first_number = 2\n",
    "    second_number = 3\n",
    "    total_number = first_number + second_number\n",
    "    print(total_number)\n",
    "    \n",
    "addition()"
   ]
  },
  {
   "cell_type": "code",
   "execution_count": 7,
   "metadata": {},
   "outputs": [
    {
     "name": "stdout",
     "output_type": "stream",
     "text": [
      "Enter first number:5\n",
      "Enter second number:7\n",
      "12\n"
     ]
    }
   ],
   "source": [
    "# function example of input\n",
    "\n",
    "def addition():\n",
    "    first_number = int(input(\"Enter first number:\"))\n",
    "    second_number = int(input(\"Enter second number:\"))\n",
    "    total_number = first_number + second_number\n",
    "    print(total_number)\n",
    "    \n",
    "addition()"
   ]
  },
  {
   "cell_type": "code",
   "execution_count": 12,
   "metadata": {},
   "outputs": [
    {
     "name": "stdout",
     "output_type": "stream",
     "text": [
      "45\n"
     ]
    }
   ],
   "source": [
    "# function example of arguments and parameters\n",
    "def addition(first_number,second_number):           # parameters\n",
    "    \n",
    "    total_number = first_number + second_number\n",
    "    print(total_number)\n",
    " \n",
    "addition(35,10)                                    # arguments"
   ]
  },
  {
   "cell_type": "code",
   "execution_count": 13,
   "metadata": {},
   "outputs": [
    {
     "name": "stdout",
     "output_type": "stream",
     "text": [
      "57\n"
     ]
    }
   ],
   "source": [
    "# function example of 3 arguments and parameters\n",
    "def addition(first_number,second_number,third_number):           # parameters\n",
    "    \n",
    "    total_number = first_number + second_number+third_number\n",
    "    print(total_number)\n",
    " \n",
    "addition(35,10,12)                                    # arguments"
   ]
  },
  {
   "cell_type": "code",
   "execution_count": 17,
   "metadata": {},
   "outputs": [
    {
     "name": "stdout",
     "output_type": "stream",
     "text": [
      "Mateen Abdul\n"
     ]
    }
   ],
   "source": [
    "# example of positional argument\n",
    "def full_name(last_name,first_name):\n",
    "    complete_name = first_name + \" \" +last_name\n",
    "    print(complete_name)\n",
    "    \n",
    "full_name(\"Abdul\",\"Mateen\")    "
   ]
  },
  {
   "cell_type": "code",
   "execution_count": 18,
   "metadata": {},
   "outputs": [
    {
     "name": "stdout",
     "output_type": "stream",
     "text": [
      "Abdul Mateen\n"
     ]
    }
   ],
   "source": [
    "# example of keyword argument\n",
    "def full_name(last_name,first_name):\n",
    "    complete_name = first_name + \" \" +last_name\n",
    "    print(complete_name)\n",
    "    \n",
    "full_name(first_name=\"Abdul\",last_name=\"Mateen\")    "
   ]
  },
  {
   "cell_type": "code",
   "execution_count": 19,
   "metadata": {},
   "outputs": [
    {
     "name": "stdout",
     "output_type": "stream",
     "text": [
      "Abdul Mateen\n"
     ]
    }
   ],
   "source": [
    "# values define in parameter\n",
    "def full_name(first_name=\"Abdul\",last_name=\"Mateen\"):\n",
    "    complete_name = first_name + \" \" +last_name\n",
    "    print(complete_name)\n",
    "    \n",
    "full_name()    "
   ]
  },
  {
   "cell_type": "code",
   "execution_count": null,
   "metadata": {},
   "outputs": [],
   "source": []
  }
 ],
 "metadata": {
  "kernelspec": {
   "display_name": "Python 3",
   "language": "python",
   "name": "python3"
  },
  "language_info": {
   "codemirror_mode": {
    "name": "ipython",
    "version": 3
   },
   "file_extension": ".py",
   "mimetype": "text/x-python",
   "name": "python",
   "nbconvert_exporter": "python",
   "pygments_lexer": "ipython3",
   "version": "3.7.4"
  }
 },
 "nbformat": 4,
 "nbformat_minor": 2
}
