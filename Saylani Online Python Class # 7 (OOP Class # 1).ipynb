{
 "cells": [
  {
   "cell_type": "code",
   "execution_count": 1,
   "metadata": {},
   "outputs": [],
   "source": [
    "# OOP EXAMPLES\n",
    "# class can be real world scenario or problem in which object is created \n",
    "# and in further programming we create instance of that object\n",
    "# object is create within a class and then we create instance of that object outside the class\n",
    "# objects is a feature of a class for eg: car is a \"class\" and their tyres ,headlight,backlight ,seats etc are its \"object\"\n",
    "# and then object is further used\n",
    "# lets take example as my car can move upto 120 km/hr or my car can move 16 km/litre etc are the functionality of car\n",
    "# functionality can differ as per mutiple cars or class and that functionality of object which we call in class is known \n",
    "# as \"Methods\" . functionality within the class is known as \"Methods\"\n",
    "# object han 2 characteristics 1. attributes or properties 2.method or behaviour\n",
    "# instance is defined outside the class\n",
    "# attributes are the properties of objects\n"
   ]
  },
  {
   "cell_type": "code",
   "execution_count": 4,
   "metadata": {},
   "outputs": [
    {
     "name": "stdout",
     "output_type": "stream",
     "text": [
      "<__main__.Human object at 0x000000C08A173B88>\n",
      "Khan\n",
      "10\n",
      "<__main__.Human object at 0x000000C08A173B08>\n",
      "Mughal\n",
      "10\n"
     ]
    }
   ],
   "source": [
    "class Human():\n",
    "    def __init__(self,name):           # instantiation ,it is must\n",
    "        self.name = name               # we can use any word instead of self\n",
    "        self.age = 10\n",
    "        \n",
    "person1 = Human(\"Khan\")\n",
    "person2 = Human(\"Mughal\")\n",
    "print(person1)                          # display memory allocation of object\n",
    "print(person1.name)      \n",
    "print(person2.age)\n",
    "print(person2)\n",
    "print(person2.name)\n",
    "print(person2.age)"
   ]
  },
  {
   "cell_type": "code",
   "execution_count": 5,
   "metadata": {},
   "outputs": [],
   "source": [
    "# four pillars of oop\n",
    "# inheritance ,enscapsulation , polymorphism , abstraction\n",
    "# in inheritance we can use parent class code in child class so we dont have to rewrite it\n",
    "# in encapsulation we can restrict access to methods and variables and attributes by public,private and protected\n",
    "# in encapsulation we denote private attribute using single\"_\" or double\"__\" underscore as prefix\n",
    "# abstraction means hiding the complexity and only showing the essential features of objects or \n",
    "# hiding the details and only showing functionalities is abstraction for eg: TV,we watch tv without knowing inner working of TV.\n",
    "# abstraction class is a class in which instance cannot be created but you can create child class from it and also \n",
    "# you can use objects of abstract class in child class.\n",
    "# POLYMORPHISM is an ability to use common interface of multiple forms or data types\n",
    "# polymorphism includes two main concepts overreading,overwriting\n",
    "# suppose we need to color a shape,there are multiple shape circle , square,rectangle ,however we used same method of color\n",
    "# to color different shapes\n",
    "\n",
    "\n",
    "\n"
   ]
  },
  {
   "cell_type": "code",
   "execution_count": 14,
   "metadata": {},
   "outputs": [
    {
     "name": "stdout",
     "output_type": "stream",
     "text": [
      "==========================Student1==========================\n",
      "Nouroz\n",
      "12\n",
      "twelve years\n",
      "Iqra University\n",
      "==========================Student2==========================\n",
      "Umer\n",
      "20\n",
      "twenty years\n",
      "Iqra University\n",
      "\n",
      "\n",
      "<__main__.Registration object at 0x000000C08A1B0A88>\n",
      "<__main__.Registration object at 0x000000C08A1A5848>\n"
     ]
    }
   ],
   "source": [
    "# class example\n",
    "# object is create within a class and then we create instance of that object outside the class\n",
    "\n",
    "class Registration():                    # instantiation method\n",
    "    def __init__(self,name,rollno,age):  # atleast single argument is must in instantiation method\n",
    "        # attributes and attributes name respectively ,name,rollno,age is attributes name\n",
    "        self.name = name                 # the complete instantiation method is object i.e:def __init__(self,name,rollno,age):\n",
    "        self.rollno = rollno             # self.name,self.rollno,self.age is attributes\n",
    "        self.age = age\n",
    "        self.Uniname = \"Iqra University\"  # default attribute\n",
    "    \n",
    "# instance    \n",
    "student1 = Registration(\"Nouroz\",12,\"twelve years\")                   # instance creation,student1 is instance\n",
    "# instance is when class is call\n",
    "\n",
    "# new instance  of student2\n",
    "student2 = Registration(\"Umer\",20,\"twenty years\") \n",
    "\n",
    "print(\"==========================Student1==========================\")\n",
    "print(student1.name)\n",
    "print(student1.rollno)\n",
    "print(student1.age)\n",
    "print(student1.Uniname)\n",
    "print(\"==========================Student2==========================\")\n",
    "print(student2.name)\n",
    "print(student2.rollno)\n",
    "print(student2.age)\n",
    "print(student2.Uniname)\n",
    "print(\"\\n\")\n",
    "print(student1)\n",
    "print(student2)"
   ]
  },
  {
   "cell_type": "code",
   "execution_count": 20,
   "metadata": {},
   "outputs": [
    {
     "name": "stdout",
     "output_type": "stream",
     "text": [
      "==========================Student1==========================\n",
      "Nouroz\n",
      "12\n",
      "twelve years\n",
      "Iqra University\n",
      "After Modifying default attribute by 1st method\n",
      "NED University\n",
      "==========================Student2==========================\n",
      "Umer\n",
      "20\n",
      "twenty years\n",
      "Iqra University\n",
      "After Modifying default attribute by 1st method\n",
      "Bahria University\n",
      "\n",
      "\n",
      "<__main__.Registration object at 0x000000C08A168288>\n",
      "<__main__.Registration object at 0x000000C08A168108>\n"
     ]
    }
   ],
   "source": [
    "# modifying default attribute 1st method that is by directly assigning of instance\n",
    "\n",
    "class Registration():                    # instantiation method\n",
    "    def __init__(self,name,rollno,age):  # atleast single argument is must in instantiation method\n",
    "        # attributes and attributes name respectively ,name,rollno,age is attributes name\n",
    "        self.name = name                 # the complete instantiation method is object i.e:def __init__(self,name,rollno,age):\n",
    "        self.rollno = rollno             # self.name,self.rollno,self.age is attributes\n",
    "        self.age = age\n",
    "        self.Uniname = \"Iqra University\"  # default attribute\n",
    "    \n",
    "# instance    \n",
    "student1 = Registration(\"Nouroz\",12,\"twelve years\")                   # instance creation,student1 is instance\n",
    "# instance is when class is call\n",
    "\n",
    "# new instance  of student2\n",
    "student2 = Registration(\"Umer\",20,\"twenty years\") \n",
    "\n",
    "print(\"==========================Student1==========================\")\n",
    "print(student1.name)\n",
    "print(student1.rollno)\n",
    "print(student1.age)\n",
    "print(student1.Uniname)\n",
    "print(\"After Modifying default attribute by 1st method\")\n",
    "student1.Uniname = \"NED University\"       # 1st method of modifying default attribute\n",
    "print(student1.Uniname)\n",
    "print(\"==========================Student2==========================\")\n",
    "print(student2.name)\n",
    "print(student2.rollno)\n",
    "print(student2.age)\n",
    "print(student2.Uniname)\n",
    "print(\"After Modifying default attribute by 1st method\")\n",
    "student2.Uniname = \"Bahria University\"       # 1st method of modifying default attribute\n",
    "print(student2.Uniname)\n",
    "print(\"\\n\")\n",
    "print(student1)\n",
    "print(student2)"
   ]
  },
  {
   "cell_type": "code",
   "execution_count": 19,
   "metadata": {},
   "outputs": [
    {
     "name": "stdout",
     "output_type": "stream",
     "text": [
      "==========================Student1==========================\n",
      "Nouroz\n",
      "12\n",
      "twelve years\n",
      "Iqra University\n",
      "After Modifying default attribute by 2nd method\n",
      "NED University\n",
      "==========================Student2==========================\n",
      "Umer\n",
      "20\n",
      "twenty years\n",
      "Iqra University\n",
      "After Modifying default attribute by 2nd method\n",
      "Bahria University\n",
      "\n",
      "\n",
      "<__main__.Registration object at 0x000000C089221C08>\n",
      "<__main__.Registration object at 0x000000C08A196908>\n"
     ]
    }
   ],
   "source": [
    "# modifying default attribute 1st method that is by creating method\n",
    "\n",
    "class Registration():                    # instantiation method\n",
    "    def __init__(self,name,rollno,age):  # atleast single argument is must in instantiation method\n",
    "        # attributes and attributes name respectively ,name,rollno,age is attributes name\n",
    "        self.name = name                 # the complete instantiation method is object i.e:def __init__(self,name,rollno,age):\n",
    "        self.rollno = rollno             # self.name,self.rollno,self.age is attributes\n",
    "        self.age = age\n",
    "        self.Uniname = \"Iqra University\"  # default attribute\n",
    "        \n",
    "        \n",
    "    def updateUniname(self,new_name):     # method creation , by passing self we have access of all attributes of object\n",
    "        self.Uniname = new_name\n",
    "        \n",
    "        \n",
    "    \n",
    "# instance    \n",
    "student1 = Registration(\"Nouroz\",12,\"twelve years\")                   # instance creation,student1 is instance\n",
    "# instance is when class is call\n",
    "\n",
    "# new instance  of student2\n",
    "student2 = Registration(\"Umer\",20,\"twenty years\") \n",
    "\n",
    "print(\"==========================Student1==========================\")\n",
    "print(student1.name)\n",
    "print(student1.rollno)\n",
    "print(student1.age)\n",
    "print(student1.Uniname)\n",
    "print(\"After Modifying default attribute by 2nd method\")\n",
    "student1.updateUniname(\"NED University\")       # 2nd method of modifying default attribute\n",
    "print(student1.Uniname)\n",
    "print(\"==========================Student2==========================\")\n",
    "print(student2.name)\n",
    "print(student2.rollno)\n",
    "print(student2.age)\n",
    "print(student2.Uniname)\n",
    "print(\"After Modifying default attribute by 2nd method\")\n",
    "student2.updateUniname(\"Bahria University\")       # 2nd method of modifying default attribute\n",
    "print(student2.Uniname)\n",
    "print(\"\\n\")\n",
    "print(student1)\n",
    "print(student2)"
   ]
  },
  {
   "cell_type": "code",
   "execution_count": null,
   "metadata": {},
   "outputs": [],
   "source": []
  }
 ],
 "metadata": {
  "kernelspec": {
   "display_name": "Python 3",
   "language": "python",
   "name": "python3"
  },
  "language_info": {
   "codemirror_mode": {
    "name": "ipython",
    "version": 3
   },
   "file_extension": ".py",
   "mimetype": "text/x-python",
   "name": "python",
   "nbconvert_exporter": "python",
   "pygments_lexer": "ipython3",
   "version": "3.7.4"
  }
 },
 "nbformat": 4,
 "nbformat_minor": 2
}
