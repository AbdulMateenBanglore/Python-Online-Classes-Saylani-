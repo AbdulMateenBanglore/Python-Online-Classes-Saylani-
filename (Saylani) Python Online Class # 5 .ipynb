{
 "cells": [
  {
   "cell_type": "code",
   "execution_count": 2,
   "metadata": {},
   "outputs": [
    {
     "name": "stdout",
     "output_type": "stream",
     "text": [
      "7\n"
     ]
    }
   ],
   "source": [
    "def addnum():\n",
    "    firstnum = 3\n",
    "    secondnum = 4\n",
    "    result = firstnum + secondnum\n",
    "    print(result)\n",
    "    \n",
    "addnum()    "
   ]
  },
  {
   "cell_type": "code",
   "execution_count": 3,
   "metadata": {},
   "outputs": [
    {
     "name": "stdout",
     "output_type": "stream",
     "text": [
      "30\n"
     ]
    }
   ],
   "source": [
    "# example of positional argument\n",
    "def addnum(firstnum,secondnum):\n",
    "    result = firstnum + secondnum\n",
    "    print(result)\n",
    "    \n",
    "addnum(10,20)    "
   ]
  },
  {
   "cell_type": "code",
   "execution_count": 8,
   "metadata": {},
   "outputs": [
    {
     "name": "stdout",
     "output_type": "stream",
     "text": [
      "5\n"
     ]
    }
   ],
   "source": [
    "# example of keyword argument\n",
    "def addnum(firstnum,secondnum):\n",
    "    result = firstnum + secondnum\n",
    "    print(result)\n",
    "    \n",
    "firstnum = 2          # it is global variable so we can use it in function too but we can't use \n",
    "secondnum = 3         # local variables defined inside function at outside the function\n",
    "\n",
    "addnum(firstnum,secondnum)    "
   ]
  },
  {
   "cell_type": "code",
   "execution_count": 10,
   "metadata": {},
   "outputs": [
    {
     "name": "stdout",
     "output_type": "stream",
     "text": [
      "5\n"
     ]
    }
   ],
   "source": [
    "# example\n",
    "def addnum(num1,num2):\n",
    "    result = num1 + num2\n",
    "    print(result)\n",
    "    \n",
    "firstnum = 2          \n",
    "secondnum = 3         \n",
    "                            # name of argument variable and parameter variable doesn't need to \n",
    "addnum(firstnum,secondnum)   # be same in case of global variable but data type and positions can affect \n"
   ]
  },
  {
   "cell_type": "code",
   "execution_count": 11,
   "metadata": {},
   "outputs": [
    {
     "name": "stdout",
     "output_type": "stream",
     "text": [
      "5\n"
     ]
    }
   ],
   "source": [
    "def addnum(firstnum,secondnum):\n",
    "    result = firstnum + secondnum\n",
    "    print(result)\n",
    "                                      # you can also pass values at the time of function calling but now the name of \n",
    "addnum(firstnum = 2,secondnum = 3)    #  arguments variable and parameter variable has to be same"
   ]
  },
  {
   "cell_type": "code",
   "execution_count": 1,
   "metadata": {},
   "outputs": [
    {
     "name": "stdout",
     "output_type": "stream",
     "text": [
      "5\n"
     ]
    }
   ],
   "source": [
    "# example of keyword argument\n",
    "def addnum(firstnum,secondnum):\n",
    "    result = firstnum + secondnum\n",
    "    print(result)\n",
    "    \n",
    "firstnum1 = 2          # it is global variable so we can use it in function too but \n",
    "secondnum2 = 3         # we can't use local variables defined inside function at o\n",
    "\n",
    "addnum(firstnum1,secondnum2)"
   ]
  },
  {
   "cell_type": "code",
   "execution_count": 2,
   "metadata": {},
   "outputs": [
    {
     "name": "stdout",
     "output_type": "stream",
     "text": [
      "5\n"
     ]
    }
   ],
   "source": [
    "def addnum(firstnum,secondnum):\n",
    "    result = firstnum + secondnum\n",
    "    print(result)\n",
    "                                      # you can also pass values at the time of function calling but now the name of \n",
    "addnum(firstnum = 2,secondnum = 3)    #  arguments variable and parameter variable has to be same"
   ]
  },
  {
   "cell_type": "code",
   "execution_count": 3,
   "metadata": {},
   "outputs": [
    {
     "name": "stdout",
     "output_type": "stream",
     "text": [
      "-4\n"
     ]
    }
   ],
   "source": [
    "# example of argument\n",
    "def addnum(secondnum,firstnum):              # def addnum(8,4)\n",
    "    result = firstnum - secondnum\n",
    "    print(result)\n",
    "    \n",
    "firstnum = 8          # it is global variable so we can use it in function too but we can't use \n",
    "secondnum = 4        # in passing the function values depend upon calling sequence as calling addnum(firstnum,secondnum)\n",
    "                     # means addnum(8,4) and it applies same on parameters as def addnum(secondnum,firstnum): means\n",
    "                     # def addnum(8,4) so it defines 8 as second num because addnum(secondnum,_____): and it defines \n",
    "                     # 4 as first num addnum(______,firstnum): and solution goes on \n",
    "addnum(firstnum,secondnum)                  #addnum(8,4)"
   ]
  },
  {
   "cell_type": "code",
   "execution_count": 4,
   "metadata": {},
   "outputs": [
    {
     "name": "stdout",
     "output_type": "stream",
     "text": [
      "4\n"
     ]
    }
   ],
   "source": [
    "# example of argument\n",
    "def addnum(eight,four):              # def addnum(8,4)\n",
    "    result = eight - four\n",
    "    print(result)\n",
    "    \n",
    "firstnum = 8          # it is global variable so we can use it in function too but we can't use \n",
    "secondnum = 4        # in passing the function values depend upon calling sequence as calling addnum(eight,four)\n",
    "                     # means addnum(8,4) and it applies same on parameters as def addnum(eight,four): means\n",
    "                     # def addnum(8,4) so it defines 8 as eight because addnum(eight,_____): and it defines \n",
    "                     # 4 as first num addnum(______,four): and solution goes on \n",
    "addnum(firstnum,secondnum)                  #addnum(8,4)"
   ]
  },
  {
   "cell_type": "code",
   "execution_count": 5,
   "metadata": {},
   "outputs": [
    {
     "name": "stdout",
     "output_type": "stream",
     "text": [
      "30\n"
     ]
    }
   ],
   "source": [
    "# default argument example \n",
    "firstnum = 10                # it is global variable so we can use it in function too \n",
    "def def_arg(ten,twenty=20):  # we can pass value at the function declaration also\n",
    "    result = ten + twenty\n",
    "    print(result)             #twenty=20 is a default argument\n",
    "    \n",
    "def_arg(firstnum)            # as twenty value is given so we only need first num value\n",
    "    "
   ]
  },
  {
   "cell_type": "code",
   "execution_count": 11,
   "metadata": {},
   "outputs": [
    {
     "ename": "SyntaxError",
     "evalue": "non-default argument follows default argument (<ipython-input-11-3dd3e02babe1>, line 2)",
     "output_type": "error",
     "traceback": [
      "\u001b[1;36m  File \u001b[1;32m\"<ipython-input-11-3dd3e02babe1>\"\u001b[1;36m, line \u001b[1;32m2\u001b[0m\n\u001b[1;33m    def coursedetail(inst_name,language = 'Python',duration):   # language = 'Python' is a default argument\u001b[0m\n\u001b[1;37m                    ^\u001b[0m\n\u001b[1;31mSyntaxError\u001b[0m\u001b[1;31m:\u001b[0m non-default argument follows default argument\n"
     ]
    }
   ],
   "source": [
    "inst_name = 'SMIT'\n",
    "def coursedetail(inst_name,language = 'Python',duration):   # language = 'Python' is a default argument\n",
    "    print(inst_name + \" \" + language + \" \" + duration)      # default argument always be last parameter of function\n",
    "coursedetail(inst_name,duration = '3 months')    "
   ]
  },
  {
   "cell_type": "code",
   "execution_count": 9,
   "metadata": {},
   "outputs": [
    {
     "name": "stdout",
     "output_type": "stream",
     "text": [
      "SMIT Python 3 months\n"
     ]
    }
   ],
   "source": [
    "inst_name = 'SMIT'\n",
    "def coursedetail(inst_name,duration,language = 'Python'):   # language = 'Python' is a default argument\n",
    "    print(inst_name + \" \" + language + \" \" + duration)       # default argument always be last parameter of function\n",
    "    \n",
    "coursedetail(inst_name,duration = '3 months')        # duration = '3 months' is positional argument ,positional argument means \n",
    "                                                     # when you provide value on function calling"
   ]
  },
  {
   "cell_type": "code",
   "execution_count": 19,
   "metadata": {},
   "outputs": [
    {
     "name": "stdout",
     "output_type": "stream",
     "text": [
      "My name is Abdul Mateen and my father name is Muhammad Naseer\n",
      "am62287@gmail.com\n",
      "03001234567\n",
      "Karachi\n"
     ]
    }
   ],
   "source": [
    "# 3 types of arguments 1-keyword argument , 2-default argument 3-arbitrary arguments\n",
    "\n",
    "# example of arbitrary argument means when we don't declare exact no of arguments at defining the function\n",
    "\n",
    "'''\n",
    "param is used to specify a parameter that takes variable number of arguments. It is\n",
    "useful when we don't know the number of arguments prior. Only one param is allowed and \n",
    "no additional parameter is permitted after param in a function at the time of declaration.\n",
    "'''\n",
    "def func(name,fname,*params):\n",
    "      print(\"My name is \" + name + \" and my father name is \" + fname)\n",
    "      for param in params:\n",
    "            print(param)\n",
    "            \n",
    "func(\"Abdul Mateen\",\"Muhammad Naseer\",\"am62287@gmail.com\", '03001234567',\"Karachi\")"
   ]
  },
  {
   "cell_type": "code",
   "execution_count": 25,
   "metadata": {},
   "outputs": [
    {
     "name": "stdout",
     "output_type": "stream",
     "text": [
      "My name is Abdul Mateen and my father name is Muhammad Naseer\n",
      "email:am62287@gmail.com\n",
      "phoneno:03001234567\n",
      "city:Karachi\n"
     ]
    }
   ],
   "source": [
    "# example of key value in arbitrary\n",
    "def func(name,fname,**params):           # when we have key,value pair in arbitrary \n",
    "                                         # then we have to use double asterick in defining \n",
    "      print(\"My name is \" + name + \" and my father name is \" + fname)\n",
    "      for key,value in params.items():\n",
    "        print(key + \":\" + value)\n",
    "            \n",
    "func(\"Abdul Mateen\",\"Muhammad Naseer\",email = \"am62287@gmail.com\",phoneno = '03001234567',city = \"Karachi\")"
   ]
  },
  {
   "cell_type": "code",
   "execution_count": 27,
   "metadata": {},
   "outputs": [
    {
     "name": "stdout",
     "output_type": "stream",
     "text": [
      "3\n"
     ]
    }
   ],
   "source": [
    "# example of return\n",
    "def rfunc():\n",
    "    num1 = 1\n",
    "    num2 = 2\n",
    "    result = num1 + num2\n",
    "    return result\n",
    "\n",
    "return_variable = rfunc()     # incase we have to use return value in program so we have to  save function  in any variable \n",
    "                              # and then we can use the return value\n",
    "\n",
    "print(return_variable)"
   ]
  },
  {
   "cell_type": "code",
   "execution_count": 4,
   "metadata": {},
   "outputs": [
    {
     "name": "stdout",
     "output_type": "stream",
     "text": [
      "3\n",
      "7\n",
      "10\n"
     ]
    }
   ],
   "source": [
    "# example of return\n",
    "def r1func():\n",
    "    num1 = 1\n",
    "    num2 = 2\n",
    "    result = num1 + num2\n",
    "    return result             # return can only return one thing at a function but you can return multiple things\n",
    "                              # by writing the multiple things to be return in round brakets after return keyword\n",
    "\n",
    "return_variable1 = r1func()     # incase we have to use return value in program so we have to  save function  in any variable \n",
    "                                # and then we can use the return value\n",
    "print(return_variable1)\n",
    "\n",
    "\n",
    "def r2func():\n",
    "    num3 = 3\n",
    "    num4 = 4\n",
    "    result2 = num3 + num4\n",
    "    return result2\n",
    "\n",
    "return_variable2 = r2func()  \n",
    "\n",
    "print(return_variable2)\n",
    "\n",
    "final_result = return_variable1 + return_variable2\n",
    "print(final_result)"
   ]
  },
  {
   "cell_type": "code",
   "execution_count": 9,
   "metadata": {},
   "outputs": [
    {
     "name": "stdout",
     "output_type": "stream",
     "text": [
      "What is your name:Mateen\n",
      "Mateen is enrolled in SMIT Python Programming in 3 months\n"
     ]
    }
   ],
   "source": [
    "# function calling inside function example\n",
    "\n",
    "# Mateen is enroll in SMIT Python Programming 3 months\n",
    "\n",
    "def courseinfo():\n",
    "    institute='SMIT'\n",
    "    language='Python Programming'\n",
    "    duration='in 3 months'\n",
    "    \n",
    "    return (institute + \" \" + language + \" \" + duration)      # SMIT Python Programming in 3 months\n",
    "\n",
    "                                                            # return can only return one thing at a function but you can\n",
    "                                                            # return multiple things by writing the multiple things to be\n",
    "                                                            # return in round brakets after return keyword\n",
    "def userinfo():\n",
    "    name = input(\"What is your name:\")\n",
    "    result = name + \" is enrolled in \" + courseinfo()       #Mateen is enroll in SMIT Python Programming 3 months\n",
    "    return result\n",
    "\n",
    "wholeinfo=userinfo()\n",
    "\n",
    "print(wholeinfo)"
   ]
  },
  {
   "cell_type": "code",
   "execution_count": 13,
   "metadata": {},
   "outputs": [],
   "source": [
    "# while loop example\n",
    "\n"
   ]
  },
  {
   "cell_type": "code",
   "execution_count": null,
   "metadata": {},
   "outputs": [],
   "source": []
  }
 ],
 "metadata": {
  "kernelspec": {
   "display_name": "Python 3",
   "language": "python",
   "name": "python3"
  },
  "language_info": {
   "codemirror_mode": {
    "name": "ipython",
    "version": 3
   },
   "file_extension": ".py",
   "mimetype": "text/x-python",
   "name": "python",
   "nbconvert_exporter": "python",
   "pygments_lexer": "ipython3",
   "version": "3.7.4"
  }
 },
 "nbformat": 4,
 "nbformat_minor": 2
}
